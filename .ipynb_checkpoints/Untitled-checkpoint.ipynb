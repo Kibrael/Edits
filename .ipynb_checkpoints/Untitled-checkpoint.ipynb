{
 "cells": [
  {
   "cell_type": "code",
   "execution_count": 8,
   "metadata": {
    "collapsed": false
   },
   "outputs": [
    {
     "name": "stdout",
     "output_type": "stream",
     "text": [
      "i'm connected\n"
     ]
    }
   ],
   "source": [
    "##############\n",
    "#K. David Roell CFPB 7/12/16\n",
    "#Compiles a report of all quality and macro edit failures for HMDA LAR data\n",
    "#\n",
    "##############\n",
    "import json\n",
    "import os\n",
    "import pandas as pd\n",
    "import psycopg2\n",
    "\n",
    "with open('quality_sql.json') as f:\n",
    "    edit_sql = json.load(f)\n",
    "    \n",
    "#conn = psycopg2.connect(\"dbname=hmdamaster user=roellk\") #connect and return connection\n",
    "#cur = conn.cursor()#instantiate cursor object to use in SQL queries\n",
    "#parameter format for local use #consider changing hmdamaster to roellk if db changes cause a fail\n",
    "params = {\n",
    "'dbname':'hmdamaster',\n",
    "'user':'roellk',\n",
    "'password':'',\n",
    "'host':'localhost',\n",
    "\n",
    "}\n",
    "\n",
    "#connect_string = \"dbname=%s user=%s host=%s password =%s\" %(dbname, user, host, password) #set a string for connection to SQL\n",
    "try:\n",
    "    conn = psycopg2.connect(**params)\n",
    "    cur = conn.cursor()\n",
    "    print(\"i'm connected\")\n",
    "\n",
    "except psycopg2.Error as e: #if database connection results in an error print the following\n",
    "    print(\"I am unable to connect to the database: \", e)\n",
    "\n",
    "\n",
    "lar_tables = ['hmdalar2014', 'hmdalar2013']\n",
    "#edit_list = [item for item in dir(SQL_text) if not item.startswith(\"__\")]"
   ]
  },
  {
   "cell_type": "code",
   "execution_count": 11,
   "metadata": {
    "collapsed": false
   },
   "outputs": [],
   "source": [
    "def edit_text(table='hmdalar2014', edit_sql=edit_sql[0]['text'], edit_name=edit_sql[0]['name'], add_fields=[]):\n",
    "    base_sql = \"\"\"SELECT year, agency, COUNT(sequence) AS {edit_name} \"\"\".format(edit_name=edit_name)\n",
    "    table_sql = \"\\nFROM {table}\\n\".format(table=table) \n",
    "    group_sql = \"\"\" GROUP BY year, agency\"\"\"\n",
    "\n",
    "\n",
    "    for field in add_fields:\n",
    "        base_sql = base_sql + ',' + field\n",
    "        group_sql = group_sql + ', '+ field\n",
    "    return_sql = base_sql + table_sql + edit_sql + group_sql + ';'\n",
    "    print(return_sql)\n",
    "    return return_sql "
   ]
  },
  {
   "cell_type": "code",
   "execution_count": null,
   "metadata": {
    "collapsed": false,
    "scrolled": true
   },
   "outputs": [
    {
     "name": "stdout",
     "output_type": "stream",
     "text": [
      "Q035\n",
      "SELECT year, agency, COUNT(sequence) AS Q035 \n",
      "FROM hmdalar2014\n",
      "WHERE loan_type != '1' AND purchaser IN  ('1','3') GROUP BY year, agency;\n",
      "   year agency  q035\n",
      "0  2014      5   156\n",
      "1  2014      1   408\n",
      "2  2014      7  1579\n",
      "3  2014      2   158\n",
      "4  2014      9   199\n",
      "5  2014      3   446 \n",
      "\n",
      "Q001\n",
      "SELECT year, agency, COUNT(sequence) AS Q001 \n",
      "FROM hmdalar2014\n",
      "WHERE amount not like '%NA%' AND income not like '%NA%' AND amount::int >= 1000 AND (amount::int / income::int) < 5 GROUP BY year, agency;\n",
      "   year agency   q001\n",
      "0  2014      5   1699\n",
      "1  2014      1   4514\n",
      "2  2014      7   9280\n",
      "3  2014      2   1667\n",
      "4  2014      9  54243\n",
      "5  2014      3   4614 \n",
      "\n",
      "   year agency  q035   q001\n",
      "0  2014      5   156   1699\n",
      "1  2014      1   408   4514\n",
      "2  2014      7  1579   9280\n",
      "3  2014      2   158   1667\n",
      "4  2014      9   199  54243\n",
      "5  2014      3   446   4614\n",
      "Q002\n",
      "SELECT year, agency, COUNT(sequence) AS Q002 \n",
      "FROM hmdalar2014\n",
      "WHERE property_type = '1' AND income NOT LIKE '%NA%' AND amount NOT LIKE '%NA%' AND income::INT >= 200 AND amount::INT >= 2000 GROUP BY year, agency;\n",
      "   year agency  q002\n",
      "0  2014      5   214\n",
      "1  2014      1   971\n",
      "2  2014      7   673\n",
      "3  2014      2   274\n",
      "4  2014      9  9892\n",
      "5  2014      3   704 \n",
      "\n",
      "   year agency  q035   q001  q002\n",
      "0  2014      5   156   1699   214\n",
      "1  2014      1   408   4514   971\n",
      "2  2014      7  1579   9280   673\n",
      "3  2014      2   158   1667   274\n",
      "4  2014      9   199  54243  9892\n",
      "5  2014      3   446   4614   704\n",
      "Q003\n",
      "SELECT year, agency, COUNT(sequence) AS Q003 \n",
      "FROM hmdalar2014\n",
      "WHERE loan_type = '2' AND property_type in ('1', '2') AND amount::INT > 626 AND amount NOT LIKE '%NA%' GROUP BY year, agency;\n",
      "   year agency  q003\n",
      "0  2014      5    13\n",
      "1  2014      7  3107\n",
      "2  2014      1   139\n",
      "3  2014      2    72\n",
      "4  2014      3   114\n",
      "5  2014      9  1178 \n",
      "\n",
      "   year agency  q035   q001  q002  q003\n",
      "0  2014      5   156   1699   214    13\n",
      "1  2014      1   408   4514   971   139\n",
      "2  2014      7  1579   9280   673  3107\n",
      "3  2014      2   158   1667   274    72\n",
      "4  2014      9   199  54243  9892  1178\n",
      "5  2014      3   446   4614   704   114\n",
      "Q004\n",
      "SELECT year, agency, COUNT(sequence) AS Q004 \n",
      "FROM hmdalar2014\n",
      "WHERE loan_type = '3' AND property_type IN ('1', '2') AND amount::INT >= 1050 AND amount NOT LIKE '%NA%' GROUP BY year, agency;\n"
     ]
    }
   ],
   "source": [
    "first = True\n",
    "fields=['RID']\n",
    "for edit in edit_sql:\n",
    "    name, text = edit['name'], edit['text']\n",
    "    print(name)\n",
    "    try:\n",
    "        cur.execute(edit_text(edit_sql=text, edit_name=name, add_fields=fields))        \n",
    "        data_df = pd.DataFrame(cur.fetchall())\n",
    "        col_names = [desc[0] for desc in cur.description]\n",
    "        data_df.columns = col_names\n",
    "        print(data_df, '\\n')\n",
    "        if first:\n",
    "            quality_df = data_df.copy()\n",
    "            first = False\n",
    "        else:\n",
    "            quality_df=quality_df.merge(data_df, how='outer', on=['agency', 'year'])\n",
    "            print(quality_df)\n",
    "\n",
    "    except:\n",
    "        print('no dataz')\n",
    "quality_df.to_csv('quality_edits.csv', index=False)"
   ]
  },
  {
   "cell_type": "code",
   "execution_count": null,
   "metadata": {
    "collapsed": false
   },
   "outputs": [],
   "source": []
  },
  {
   "cell_type": "code",
   "execution_count": null,
   "metadata": {
    "collapsed": false
   },
   "outputs": [],
   "source": []
  },
  {
   "cell_type": "code",
   "execution_count": null,
   "metadata": {
    "collapsed": false
   },
   "outputs": [],
   "source": []
  },
  {
   "cell_type": "code",
   "execution_count": null,
   "metadata": {
    "collapsed": false
   },
   "outputs": [],
   "source": []
  },
  {
   "cell_type": "code",
   "execution_count": null,
   "metadata": {
    "collapsed": true
   },
   "outputs": [],
   "source": []
  },
  {
   "cell_type": "code",
   "execution_count": null,
   "metadata": {
    "collapsed": false
   },
   "outputs": [],
   "source": []
  },
  {
   "cell_type": "code",
   "execution_count": null,
   "metadata": {
    "collapsed": true
   },
   "outputs": [],
   "source": []
  }
 ],
 "metadata": {
  "kernelspec": {
   "display_name": "Python 3",
   "language": "python",
   "name": "python3"
  },
  "language_info": {
   "codemirror_mode": {
    "name": "ipython",
    "version": 3
   },
   "file_extension": ".py",
   "mimetype": "text/x-python",
   "name": "python",
   "nbconvert_exporter": "python",
   "pygments_lexer": "ipython3",
   "version": "3.5.1"
  }
 },
 "nbformat": 4,
 "nbformat_minor": 0
}
