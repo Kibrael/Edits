{
 "cells": [
  {
   "cell_type": "code",
   "execution_count": 1,
   "metadata": {
    "collapsed": false
   },
   "outputs": [
    {
     "name": "stdout",
     "output_type": "stream",
     "text": [
      "i'm connected\n"
     ]
    }
   ],
   "source": [
    "##############\n",
    "#K. David Roell CFPB 7/12/16\n",
    "#Compiles a report of all quality and macro edit failures for HMDA LAR data\n",
    "#\n",
    "##############\n",
    "import json\n",
    "import os\n",
    "import pandas as pd\n",
    "import psycopg2\n",
    "\n",
    "with open('edit_sql.json') as f:\n",
    "    edit_sql = json.load(f)\n",
    "    \n",
    "#conn = psycopg2.connect(\"dbname=hmdamaster user=roellk\") #connect and return connection\n",
    "#cur = conn.cursor()#instantiate cursor object to use in SQL queries\n",
    "#parameter format for local use #consider changing hmdamaster to roellk if db changes cause a fail\n",
    "params = {\n",
    "'dbname':'hmdamaster',\n",
    "'user':'roellk',\n",
    "'password':'',\n",
    "'host':'localhost',\n",
    "\n",
    "}\n",
    "\n",
    "#connect_string = \"dbname=%s user=%s host=%s password =%s\" %(dbname, user, host, password) #set a string for connection to SQL\n",
    "try:\n",
    "    conn = psycopg2.connect(**params)\n",
    "    cur = conn.cursor()\n",
    "    print(\"i'm connected\")\n",
    "\n",
    "except psycopg2.Error as e: #if database connection results in an error print the following\n",
    "    print(\"I am unable to connect to the database: \", e)\n",
    "\n",
    "\n",
    "lar_tables = ['hmdalar2014', 'hmdalar2013']\n",
    "#edit_list = [item for item in dir(SQL_text) if not item.startswith(\"__\")]"
   ]
  },
  {
   "cell_type": "code",
   "execution_count": 3,
   "metadata": {
    "collapsed": false
   },
   "outputs": [],
   "source": [
    "def edit_text(table='hmdalar2014', edit_sql=edit_sql[0]['text'], additional_fields=[]):\n",
    "    base_sql = \"\"\"SELECT agency, COUNT(sequence) \"\"\"\n",
    "    table_sql = \"\\nFROM {table}\\n\".format(table=table) \n",
    "    group_sql = \"\"\" GROUP BY agency\"\"\"\n",
    "\n",
    "    add_fields = ''\n",
    "    for field in additional_fields:\n",
    "        base_sql = base_sql + ',' + field\n",
    "        group_sql = group_sql + ', '+ field\n",
    "    return_sql = base_sql + table_sql + edit_sql + group_sql + ';'\n",
    "    print(return_sql)\n",
    "    return return_sql "
   ]
  },
  {
   "cell_type": "code",
   "execution_count": null,
   "metadata": {
    "collapsed": false
   },
   "outputs": [
    {
     "name": "stdout",
     "output_type": "stream",
     "text": [
      "SELECT agency, COUNT(sequence) \n",
      "FROM hmdalar2014\n",
      "WHERE loan_type != '1' AND purchaser IN  ('1','3') GROUP BY agency;COMMIT;\n",
      "oops\n",
      "SELECT agency, COUNT(sequence) \n",
      "FROM hmdalar2014\n",
      "WHERE amount not like '%NA%' AND income not like '%NA%' AND amount::int >= 1000 AND (amount::int / income::int) < 5 GROUP BY agency;COMMIT;\n",
      "oops\n",
      "SELECT agency, COUNT(sequence) \n",
      "FROM hmdalar2014\n",
      "WHERE property_type = '1' AND income NOT LIKE '%NA%' AND amount NOT LIKE '%NA%' AND income::INT >= 200 AND amount::INT >: 2000 GROUP BY agency;COMMIT;\n",
      "oops\n",
      "SELECT agency, COUNT(sequence) \n",
      "FROM hmdalar2014\n",
      "WHERE loan_type = '2' AND property_type in ('1', '2') AND amount::INT > 626 AND amount not like '%NA%' GROUP BY agency;COMMIT;\n",
      "oops\n",
      "SELECT agency, COUNT(sequence) \n",
      "FROM hmdalar2014\n",
      "WHERE loan_type = '3' AND property_type IN ('1', '2') AND amount::INT >= 1050 AND amount NOT LIKE '%NA%' GROUP BY agency;COMMIT;\n"
     ]
    }
   ],
   "source": [
    "for edit in edit_sql:\n",
    "    name, text = edit['name'], edit['text']\n",
    "    try:\n",
    "        cur.execute(edit_text(edit_sql=text))\n",
    "        data_df = pd.DataFrame(cur.fetchall())\n",
    "        col_names = [desc[0] for desc in cur.description]\n",
    "        data_df.columns = col_names\n",
    "        print(data_df)\n",
    "    except:\n",
    "        print('no dataz')\n"
   ]
  },
  {
   "cell_type": "code",
   "execution_count": 83,
   "metadata": {
    "collapsed": false
   },
   "outputs": [
    {
     "data": {
      "text/html": [
       "<div>\n",
       "<table border=\"1\" class=\"dataframe\">\n",
       "  <thead>\n",
       "    <tr style=\"text-align: right;\">\n",
       "      <th></th>\n",
       "      <th>agency</th>\n",
       "      <th>count</th>\n",
       "    </tr>\n",
       "  </thead>\n",
       "  <tbody>\n",
       "    <tr>\n",
       "      <th>0</th>\n",
       "      <td>3</td>\n",
       "      <td>25</td>\n",
       "    </tr>\n",
       "    <tr>\n",
       "      <th>1</th>\n",
       "      <td>9</td>\n",
       "      <td>2</td>\n",
       "    </tr>\n",
       "    <tr>\n",
       "      <th>2</th>\n",
       "      <td>1</td>\n",
       "      <td>83</td>\n",
       "    </tr>\n",
       "    <tr>\n",
       "      <th>3</th>\n",
       "      <td>7</td>\n",
       "      <td>8</td>\n",
       "    </tr>\n",
       "    <tr>\n",
       "      <th>4</th>\n",
       "      <td>2</td>\n",
       "      <td>8</td>\n",
       "    </tr>\n",
       "    <tr>\n",
       "      <th>5</th>\n",
       "      <td>5</td>\n",
       "      <td>115</td>\n",
       "    </tr>\n",
       "  </tbody>\n",
       "</table>\n",
       "</div>"
      ],
      "text/plain": [
       "  agency  count\n",
       "0      3     25\n",
       "1      9      2\n",
       "2      1     83\n",
       "3      7      8\n",
       "4      2      8\n",
       "5      5    115"
      ]
     },
     "execution_count": 83,
     "metadata": {},
     "output_type": "execute_result"
    }
   ],
   "source": [
    "\n",
    "cur.execute(edit_text(edit_sql=text))\n",
    "data_df = pd.DataFrame(cur.fetchall())\n",
    "col_names = [desc[0] for desc in cur.description]\n",
    "data_df.columns = col_names\n",
    "data_df"
   ]
  },
  {
   "cell_type": "code",
   "execution_count": null,
   "metadata": {
    "collapsed": false
   },
   "outputs": [],
   "source": []
  },
  {
   "cell_type": "code",
   "execution_count": null,
   "metadata": {
    "collapsed": false
   },
   "outputs": [],
   "source": []
  },
  {
   "cell_type": "code",
   "execution_count": null,
   "metadata": {
    "collapsed": false
   },
   "outputs": [],
   "source": []
  },
  {
   "cell_type": "code",
   "execution_count": null,
   "metadata": {
    "collapsed": true
   },
   "outputs": [],
   "source": []
  },
  {
   "cell_type": "code",
   "execution_count": null,
   "metadata": {
    "collapsed": false
   },
   "outputs": [],
   "source": []
  },
  {
   "cell_type": "code",
   "execution_count": null,
   "metadata": {
    "collapsed": true
   },
   "outputs": [],
   "source": []
  }
 ],
 "metadata": {
  "kernelspec": {
   "display_name": "Python 3",
   "language": "python",
   "name": "python3"
  },
  "language_info": {
   "codemirror_mode": {
    "name": "ipython",
    "version": 3
   },
   "file_extension": ".py",
   "mimetype": "text/x-python",
   "name": "python",
   "nbconvert_exporter": "python",
   "pygments_lexer": "ipython3",
   "version": "3.5.1"
  }
 },
 "nbformat": 4,
 "nbformat_minor": 0
}
