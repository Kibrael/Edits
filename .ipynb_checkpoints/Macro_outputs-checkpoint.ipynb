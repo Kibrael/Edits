{
 "cells": [
  {
   "cell_type": "code",
   "execution_count": null,
   "metadata": {
    "collapsed": true
   },
   "outputs": [],
   "source": [
    "#K. David Roell CFPB 8/30/2016\n",
    "#Ingests CSVs of macro edits \n",
    "#Writes CSV of macro edits by agency code\n",
    "#Visualizes edits by number and year\n",
    "#\n"
   ]
  },
  {
   "cell_type": "code",
   "execution_count": null,
   "metadata": {
    "collapsed": true
   },
   "outputs": [],
   "source": [
    "#load all annual CSVs to dictionary\n",
    "#create new df copy for summary table\n",
    "for key in macro_dfs.keys():\n",
    "    summary_df = macro_dfs[key].copy() #copy df to create summary table\n",
    "#    print(summary_df.head())\n",
    "    #summary_df.drop(['q081_numer', 'q081_denom', 'q015_count'], axis=1, inplace=True)#drop unnecessary columns\n",
    "    #summary_df = summary_df.rename(columns={'q015_value':'q015'}) #standardize names\n",
    "    print(summary_df.head()) #view df for checking errors\n",
    "    #get counts of macro edits by agency code\n",
    "    by_agency_df = summary_df.groupby('agency').count() #produce counts of each edit type\n",
    "    by_agency_df.drop('arid', axis=1, inplace=True) #drop arid\n",
    "\n",
    "    #add total index and sum each edit count\n",
    "    sum_df = by_agency_df.sum() #put sums of edits in new frame\n",
    "    sum_df.name=('total') #name the frame (required to append)\n",
    "    by_agency_df = by_agency_df.append(sum_df)\n",
    "    by_agency_df['totals'] = by_agency_df.sum(axis=1)\n",
    "\n",
    "    by_agency_df.to_csv('macro_by_agency_'+str(key)+'.csv') #write to file"
   ]
  }
 ],
 "metadata": {
  "kernelspec": {
   "display_name": "Python 3",
   "language": "python",
   "name": "python3"
  },
  "language_info": {
   "codemirror_mode": {
    "name": "ipython",
    "version": 3
   },
   "file_extension": ".py",
   "mimetype": "text/x-python",
   "name": "python",
   "nbconvert_exporter": "python",
   "pygments_lexer": "ipython3",
   "version": "3.5.1"
  }
 },
 "nbformat": 4,
 "nbformat_minor": 0
}
