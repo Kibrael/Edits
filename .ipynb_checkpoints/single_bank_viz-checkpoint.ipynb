{
 "cells": [
  {
   "cell_type": "code",
   "execution_count": 3,
   "metadata": {
    "collapsed": false
   },
   "outputs": [
    {
     "name": "stdout",
     "output_type": "stream",
     "text": [
      "i'm connected\n"
     ]
    }
   ],
   "source": [
    "##############\n",
    "#K. David Roell CFPB 7/12/16\n",
    "#expands data selection for quality edits to include context for developing statistical approaches\n",
    "#will attemtp to segment mortgage market participants by loan activity by:\n",
    "#volume/count of lending, income of applicants, securitization, property type and other factors\n",
    "##############\n",
    "from collections import OrderedDict\n",
    "import json\n",
    "import os\n",
    "import pandas as pd\n",
    "import psycopg2\n",
    "import matplotlib\n",
    "import matplotlib.pyplot as plt\n",
    "import matplotlib.patches as mpatches\n",
    "import numpy as np\n",
    "from math import sqrt\n",
    "get_ipython().magic(u'matplotlib inline')\n",
    "matplotlib.style.use('ggplot')\n",
    "#from macro_sql import Q076 \n",
    "with open('quality_sql.json') as f: #FIXME change to quality_sql.json and refactor the rest of code\n",
    "    edit_sql = json.load(f)\n",
    "    \n",
    "#parameter format for local use #consider changing hmdamaster to roellk if db changes cause a fail\n",
    "params = {\n",
    "'dbname':'hmdamaster',\n",
    "'user':'roellk',\n",
    "'password':'',\n",
    "'host':'localhost',\n",
    "}\n",
    "\n",
    "try:\n",
    "    conn = psycopg2.connect(**params)\n",
    "    cur = conn.cursor()\n",
    "    print(\"i'm connected\")\n",
    "\n",
    "except psycopg2.Error as e: #if database connection results in an error print the following\n",
    "    print(\"I am unable to connect to the database: \", e)"
   ]
  },
  {
   "cell_type": "code",
   "execution_count": 4,
   "metadata": {
    "collapsed": false
   },
   "outputs": [],
   "source": [
    "#load single bank data as dataframe\n",
    "bank_df = pd.read_csv('dist_csvs/income_to_amount_dist__bank.csv')\n",
    "#these data are for single family, conventional, owner occupied, first lien, home purchase loans at the national level\n",
    "#other analysis will be used for each loan product, lien status, geography, and other variables as appropriate"
   ]
  },
  {
   "cell_type": "code",
   "execution_count": 6,
   "metadata": {
    "collapsed": false
   },
   "outputs": [
    {
     "data": {
      "text/html": [
       "<div>\n",
       "<table border=\"1\" class=\"dataframe\">\n",
       "  <thead>\n",
       "    <tr style=\"text-align: right;\">\n",
       "      <th></th>\n",
       "      <th>year</th>\n",
       "      <th>income</th>\n",
       "      <th>amount</th>\n",
       "    </tr>\n",
       "  </thead>\n",
       "  <tbody>\n",
       "    <tr>\n",
       "      <th>76234</th>\n",
       "      <td>2013</td>\n",
       "      <td>4</td>\n",
       "      <td>1</td>\n",
       "    </tr>\n",
       "    <tr>\n",
       "      <th>77074</th>\n",
       "      <td>2013</td>\n",
       "      <td>19</td>\n",
       "      <td>1</td>\n",
       "    </tr>\n",
       "    <tr>\n",
       "      <th>232210</th>\n",
       "      <td>2011</td>\n",
       "      <td>33</td>\n",
       "      <td>1</td>\n",
       "    </tr>\n",
       "    <tr>\n",
       "      <th>229962</th>\n",
       "      <td>2011</td>\n",
       "      <td>16</td>\n",
       "      <td>2</td>\n",
       "    </tr>\n",
       "    <tr>\n",
       "      <th>80784</th>\n",
       "      <td>2013</td>\n",
       "      <td>41</td>\n",
       "      <td>3</td>\n",
       "    </tr>\n",
       "  </tbody>\n",
       "</table>\n",
       "</div>"
      ],
      "text/plain": [
       "        year  income  amount\n",
       "76234   2013       4       1\n",
       "77074   2013      19       1\n",
       "232210  2011      33       1\n",
       "229962  2011      16       2\n",
       "80784   2013      41       3"
      ]
     },
     "execution_count": 6,
     "metadata": {},
     "output_type": "execute_result"
    }
   ],
   "source": [
    "#sort data frame by amount field, this is useful because multiple years are present\n",
    "bank_df.sort_values(by='amount', inplace=True)\n",
    "bank_df.head()"
   ]
  },
  {
   "cell_type": "code",
   "execution_count": null,
   "metadata": {
    "collapsed": false
   },
   "outputs": [],
   "source": [
    "bank_df = bank_df[bank_df.year == 2014].copy() #select single year\n",
    "bank_df.income = bank_df.income.map(int) #convert data to numeric\n",
    "bank_df.amount = bank_df.amount.map(int) #convert data to numeric\n",
    "bank_df['mult'] = bank_df.amount/bank_df.income #create amount to income multiple\n",
    "\n",
    "#create percent and cumulative percents\n",
    "bank_df['pct_amt'] = bank_df['amount']/bank_df['amount'].sum() #calculate percent of total amount for each row\n",
    "bank_df['cumul_amt_pct'] = 0 #initialize colum for cumulative amount\n",
    "#add cumulative percent by count and amount\n",
    "cumul_amount = 0\n",
    "count = 0\n",
    "for index, row in bank_df.iterrows():\n",
    "    count +=1\n",
    "    print(count)\n",
    "    cumul_amount += row['pct_amt']\n",
    "    bank_df.loc[index, 'cumul_amt_pct'] = cumul_amount\n",
    "\n",
    "\n"
   ]
  },
  {
   "cell_type": "code",
   "execution_count": null,
   "metadata": {
    "collapsed": false
   },
   "outputs": [],
   "source": [
    "bank_df.head() #check dataframe for columns"
   ]
  },
  {
   "cell_type": "code",
   "execution_count": null,
   "metadata": {
    "collapsed": true
   },
   "outputs": [],
   "source": [
    "#graph cumulative sum of % of income and % of loan amount \n",
    "bank_df.pct_amt.plot()"
   ]
  },
  {
   "cell_type": "code",
   "execution_count": 11,
   "metadata": {
    "collapsed": false
   },
   "outputs": [
    {
     "name": "stdout",
     "output_type": "stream",
     "text": [
      "400.963857957 std\n",
      "442.363262216 mean\n",
      "338.0 median\n",
      "2500.0 max mult\n",
      "0.00314465408805 min mult\n",
      "1600.0 98%\n",
      "559.0 q3\n",
      "199.0 q1\n",
      "48.0 02%\n",
      "360.0 iqr\n",
      "-341.0 min_q 1099.0 max_q\n"
     ]
    },
    {
     "data": {
      "image/png": "[encoded data removed]",
      "text/plain": [
       "<matplotlib.figure.Figure at 0x11423fa20>"
      ]
     },
     "metadata": {},
     "output_type": "display_data"
    }
   ],
   "source": [
    "#calculate descriptive stats\n",
    "print(bank_df.amount.std(), 'std') \n",
    "print(bank_df.amount.mean(), 'mean') \n",
    "print(bank_df.amount.median(), 'median')\n",
    "print(bank_df.mult.max(), 'max mult')\n",
    "print(bank_df.mult.min(), 'min mult')\n",
    "print(bank_df.amount.quantile(q=.98), '98%')\n",
    "print(bank_df.amount.quantile(q=.75), 'q3')\n",
    "print(bank_df.amount.quantile(q=.25), 'q1')\n",
    "print(bank_df.amount.quantile(q=.02), '02%')\n",
    "q1 = bank_df.amount.quantile(q=.25)\n",
    "q3 = bank_df.amount.quantile(q=.75)\n",
    "q98 = bank_df.amount.quantile(q=.98) #potential upper bound for quality\n",
    "q2 = bank_df.amount.quantile(q=.02) #potential lower bound for quality\n",
    "iqr =(q3 - q1)\n",
    "print(iqr, 'iqr')\n",
    "min_q = q1 - 1.5*iqr #potential lower bound for quality\n",
    "max_q = q3 + 1.5*iqr #potential upper bound for quality\n",
    "print(min_q, 'min_q', max_q, 'max_q')\n",
    "\n",
    "\n",
    "amt = bank_df.amount #get data as series for graphing\n",
    "inc = bank_df.income #get data as series for graphing\n",
    "bins = np.linspace(0,1000, 1000) #set ranges and number of bins\n",
    "bank_viz = plt.figure(figsize=(12,10)) #set plot size\n",
    "plt.hist(inc, bins, label='income', alpha=1) #plot histogram of income\n",
    "plt.hist(amt, bins, label='amount', alpha=.5) #plot histogram of loan amount\n",
    "plt.legend(loc='upper right') #turn on legend and set location\n",
    "plt.show()\n",
    "#FIXME add 2 box plot viz"
   ]
  },
  {
   "cell_type": "code",
   "execution_count": 24,
   "metadata": {
    "collapsed": false
   },
   "outputs": [
    {
     "name": "stdout",
     "output_type": "stream",
     "text": [
      "std 91.2671236696\n",
      "mean 109.266766579\n",
      "median 92.0\n",
      "max_mult 75.0\n",
      "min_mult 0.172413793103\n",
      "q98 347.78\n",
      "q02 20.0\n",
      "q75 132.0\n",
      "q25 58.0\n",
      "iqr 74.0\n",
      "min_q -53.0\n",
      "max_q 243.0\n",
      "[   0.            5.05050505   10.1010101    15.15151515   20.2020202\n",
      "   25.25252525   30.3030303    35.35353535   40.4040404    45.45454545\n",
      "   50.50505051   55.55555556   60.60606061   65.65656566   70.70707071\n",
      "   75.75757576   80.80808081   85.85858586   90.90909091   95.95959596\n",
      "  101.01010101  106.06060606  111.11111111  116.16161616  121.21212121\n",
      "  126.26262626  131.31313131  136.36363636  141.41414141  146.46464646\n",
      "  151.51515152  156.56565657  161.61616162  166.66666667  171.71717172\n",
      "  176.76767677  181.81818182  186.86868687  191.91919192  196.96969697\n",
      "  202.02020202  207.07070707  212.12121212  217.17171717  222.22222222\n",
      "  227.27272727  232.32323232  237.37373737  242.42424242  247.47474747\n",
      "  252.52525253  257.57575758  262.62626263  267.67676768  272.72727273\n",
      "  277.77777778  282.82828283  287.87878788  292.92929293  297.97979798\n",
      "  303.03030303  308.08080808  313.13131313  318.18181818  323.23232323\n",
      "  328.28282828  333.33333333  338.38383838  343.43434343  348.48484848\n",
      "  353.53535354  358.58585859  363.63636364  368.68686869  373.73737374\n",
      "  378.78787879  383.83838384  388.88888889  393.93939394  398.98989899\n",
      "  404.04040404  409.09090909  414.14141414  419.19191919  424.24242424\n",
      "  429.29292929  434.34343434  439.39393939  444.44444444  449.49494949\n",
      "  454.54545455  459.5959596   464.64646465  469.6969697   474.74747475\n",
      "  479.7979798   484.84848485  489.8989899   494.94949495  500.        ]\n"
     ]
    },
    {
     "data": {
      "image/png": "[encoded data removed]",
      "text/plain": [
       "<matplotlib.figure.Figure at 0x11c308518>"
      ]
     },
     "metadata": {},
     "output_type": "display_data"
    }
   ],
   "source": [
    "bin_2030 = bank_df[(bank_df.income >=20) & (bank_df.income < 30)] #create bin of 20 to 30k income\n",
    "#generate descriptive statistics and store for later comparison\n",
    "bin_2030_stats = OrderedDict({})\n",
    "bin_2030_stats['std']= bin_2030.amount.std()\n",
    "bin_2030_stats['mean'] = bin_2030.amount.mean()\n",
    "bin_2030_stats['median'] = bin_2030.amount.median()\n",
    "bin_2030_stats['max_mult'] = bin_2030.mult.max()\n",
    "bin_2030_stats['min_mult'] = bin_2030.mult.min()\n",
    "bin_2030_stats['q98'] = bin_2030.amount.quantile(q=.98)\n",
    "bin_2030_stats['q02'] = bin_2030.amount.quantile(q=.02)\n",
    "bin_2030_stats['q75'] = bin_2030.amount.quantile(q=.75)\n",
    "bin_2030_stats['q25'] = bin_2030.amount.quantile(q=.25)\n",
    "bin_2030_stats['iqr'] = bin_2030_stats['q75'] - bin_2030_stats['q25']\n",
    "bin_2030_stats['min_q'] = bin_2030_stats['q25'] - 1.5 * bin_2030_stats['iqr']\n",
    "bin_2030_stats['max_q'] = bin_2030_stats['q75'] + 1.5 * bin_2030_stats['iqr']\n",
    "\n",
    "for key, value in bin_2030_stats.items():\n",
    "    print(key, value)\n",
    "\n",
    "amt = bin_2030.amount\n",
    "inc = bin_2030.income\n",
    "bins = np.linspace(0,500, 100)\n",
    "print(bins)\n",
    "bin_viz = plt.figure(figsize=(12,10))\n",
    "plt.hist(inc, bins, label='income', alpha=1)\n",
    "plt.hist(amt, bins, label='amount', alpha=.5)\n",
    "\n",
    "plt.legend(loc='upper right')\n",
    "plt.show(bin_viz)\n",
    "#FIXME add two boxplot viz"
   ]
  },
  {
   "cell_type": "code",
   "execution_count": null,
   "metadata": {
    "collapsed": true
   },
   "outputs": [],
   "source": [
    "#make data adjustments and calculate desc stat deltas and regraph\n",
    "#use IQR and quality edits seperately (copy dataframe first)"
   ]
  },
  {
   "cell_type": "code",
   "execution_count": 1,
   "metadata": {
    "collapsed": false
   },
   "outputs": [
    {
     "ename": "NameError",
     "evalue": "name 'bin_2030' is not defined",
     "output_type": "error",
     "traceback": [
      "\u001b[0;31m---------------------------------------------------------------------------\u001b[0m",
      "\u001b[0;31mNameError\u001b[0m                                 Traceback (most recent call last)",
      "\u001b[0;32m<ipython-input-1-c42fe6039a0a>\u001b[0m in \u001b[0;36m<module>\u001b[0;34m()\u001b[0m\n\u001b[0;32m----> 1\u001b[0;31m \u001b[0mbin_2030\u001b[0m\u001b[0;34m.\u001b[0m\u001b[0mamount\u001b[0m\u001b[0;34m[\u001b[0m\u001b[0mbin_2030\u001b[0m\u001b[0;34m.\u001b[0m\u001b[0mamount\u001b[0m \u001b[0;34m<\u001b[0m \u001b[0mq98\u001b[0m\u001b[0;34m]\u001b[0m\u001b[0;34m.\u001b[0m\u001b[0mplot\u001b[0m\u001b[0;34m.\u001b[0m\u001b[0mhist\u001b[0m\u001b[0;34m(\u001b[0m\u001b[0;34m)\u001b[0m\u001b[0;34m\u001b[0m\u001b[0m\n\u001b[0m",
      "\u001b[0;31mNameError\u001b[0m: name 'bin_2030' is not defined"
     ]
    }
   ],
   "source": [
    "bin_2030.amount[bin_2030.amount < q98].plot.hist()"
   ]
  },
  {
   "cell_type": "code",
   "execution_count": null,
   "metadata": {
    "collapsed": false
   },
   "outputs": [],
   "source": []
  },
  {
   "cell_type": "code",
   "execution_count": null,
   "metadata": {
    "collapsed": false
   },
   "outputs": [],
   "source": []
  },
  {
   "cell_type": "code",
   "execution_count": null,
   "metadata": {
    "collapsed": false
   },
   "outputs": [],
   "source": []
  },
  {
   "cell_type": "code",
   "execution_count": null,
   "metadata": {
    "collapsed": false
   },
   "outputs": [],
   "source": [
    "\n"
   ]
  },
  {
   "cell_type": "code",
   "execution_count": null,
   "metadata": {
    "collapsed": false
   },
   "outputs": [],
   "source": []
  },
  {
   "cell_type": "code",
   "execution_count": null,
   "metadata": {
    "collapsed": false
   },
   "outputs": [],
   "source": []
  },
  {
   "cell_type": "code",
   "execution_count": null,
   "metadata": {
    "collapsed": false
   },
   "outputs": [],
   "source": []
  },
  {
   "cell_type": "code",
   "execution_count": null,
   "metadata": {
    "collapsed": false
   },
   "outputs": [],
   "source": []
  },
  {
   "cell_type": "code",
   "execution_count": null,
   "metadata": {
    "collapsed": true
   },
   "outputs": [],
   "source": [
    "#exclude data with quality edit fails"
   ]
  }
 ],
 "metadata": {
  "kernelspec": {
   "display_name": "Python 3",
   "language": "python",
   "name": "python3"
  },
  "language_info": {
   "codemirror_mode": {
    "name": "ipython",
    "version": 3
   },
   "file_extension": ".py",
   "mimetype": "text/x-python",
   "name": "python",
   "nbconvert_exporter": "python",
   "pygments_lexer": "ipython3",
   "version": "3.5.1"
  }
 },
 "nbformat": 4,
 "nbformat_minor": 0
}
