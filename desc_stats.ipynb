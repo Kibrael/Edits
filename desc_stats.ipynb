{
 "cells": [
  {
   "cell_type": "code",
   "execution_count": 8,
   "metadata": {
    "collapsed": false
   },
   "outputs": [
    {
     "name": "stdout",
     "output_type": "stream",
     "text": [
      "i'm connected\n"
     ]
    }
   ],
   "source": [
    "##############\n",
    "#K. David Roell CFPB 7/12/16\n",
    "#expands data selection for quality edits to include context for developing statistical approaches\n",
    "#will attemtp to segment mortgage market participants by loan activity by:\n",
    "#volume/count of lending, income of applicants, securitization, property type and other factors\n",
    "##############\n",
    "\n",
    "import json\n",
    "import os\n",
    "import pandas as pd\n",
    "import psycopg2\n",
    "import matplotlib\n",
    "import matplotlib.pyplot as plt\n",
    "import matplotlib.patches as mpatches\n",
    "get_ipython().magic(u'matplotlib inline')\n",
    "matplotlib.style.use('ggplot')\n",
    "#from macro_sql import Q076 \n",
    "with open('quality_sql.json') as f: #FIXME change to quality_sql.json and refactor the rest of code\n",
    "    edit_sql = json.load(f)\n",
    "    \n",
    "#parameter format for local use #consider changing hmdamaster to roellk if db changes cause a fail\n",
    "params = {\n",
    "'dbname':'hmdamaster',\n",
    "'user':'roellk',\n",
    "'password':'',\n",
    "'host':'localhost',\n",
    "\n",
    "}\n",
    "\n",
    "\n",
    "try:\n",
    "    conn = psycopg2.connect(**params)\n",
    "    cur = conn.cursor()\n",
    "    print(\"i'm connected\")\n",
    "\n",
    "except psycopg2.Error as e: #if database connection results in an error print the following\n",
    "    print(\"I am unable to connect to the database: \", e)\n",
    "\n",
    "\n"
   ]
  },
  {
   "cell_type": "code",
   "execution_count": 16,
   "metadata": {
    "collapsed": true
   },
   "outputs": [],
   "source": [
    "def desc_stats(table='hmdalar2014', field= 'amount', where_max=None, where_min=None):\n",
    "    base_sql = \"\"\"SELECT year, COUNT({field}) AS count_loans, SUM({field}::INT) AS sum_amt, AVG({field}::INT) AS avg_{field}, \n",
    "    STDDEV({field}::INT) AS std_{field}, MIN({field}::INT) AS min_{field}, MAX({field}::INT) AS max_{field}\"\"\".format(field=field)\n",
    "    table_sql = \"\\nFROM {table}\\n\".format(table=table) \n",
    "    where_sql = \"WHERE property_type = '1' AND loan_purpose = '1' AND agency != '7' AND {field} NOT ILIKE '%NA%' \".format(field=field)\n",
    "    if where_max:\n",
    "        where_sql = where_sql + \"AND {field}::INT < \".format(field=field) + str(where_max)\n",
    "    if where_min:\n",
    "        where_sql = where_sql + \"AND {field}::INT > \".format(field=field) + str(where_min)\n",
    "    group_sql = \"\"\" GROUP BY year\"\"\"\n",
    "    \n",
    "    return_sql = base_sql + table_sql + where_sql + group_sql\n",
    "    print(return_sql)\n",
    "    return return_sql "
   ]
  },
  {
   "cell_type": "code",
   "execution_count": null,
   "metadata": {
    "collapsed": false
   },
   "outputs": [
    {
     "name": "stdout",
     "output_type": "stream",
     "text": [
      "hmdalar2014\n",
      "SELECT year, COUNT(income) AS count_loans, SUM(income::INT) AS sum_amt, AVG(income::INT) AS avg_income, \n",
      "    STDDEV(income::INT) AS std_income, MIN(income::INT) AS min_income, MAX(income::INT) AS max_income\n",
      "FROM hmdalar2014\n",
      "WHERE property_type = '1' AND loan_purpose = '1' AND agency != '7' AND income NOT ILIKE '%NA%' AND income::INT < 650AND income::INT > 5 GROUP BY year\n",
      "setting column names\n",
      "   year  count_loans    sum_amt            avg_income           std_income  \\\n",
      "0  2014      2859862  296642880  103.7262916882003397  85.8365794898239640   \n",
      "\n",
      "   min_income  max_income                 5_pct                95_pct  \n",
      "0           6         649  -67.9468672914475883  275.3994506678482677  \n",
      "hmdalar2013\n",
      "SELECT year, COUNT(income) AS count_loans, SUM(income::INT) AS sum_amt, AVG(income::INT) AS avg_income, \n",
      "    STDDEV(income::INT) AS std_income, MIN(income::INT) AS min_income, MAX(income::INT) AS max_income\n",
      "FROM hmdalar2013\n",
      "WHERE property_type = '1' AND loan_purpose = '1' AND agency != '7' AND income NOT ILIKE '%NA%' AND income::INT < 650AND income::INT > 5 GROUP BY year\n",
      "setting column names\n",
      "merging dataframes\n",
      "   year  count_loans      sum_amt            avg_income           std_income  \\\n",
      "0  2014    2859862.0  296642880.0  103.7262916882003397  85.8365794898239640   \n",
      "1  2013    3459055.0  343103470.0   99.1899434961282778  82.3658028610649372   \n",
      "\n",
      "   min_income  max_income                 5_pct                95_pct  \n",
      "0         6.0       649.0  -67.9468672914475883  275.3994506678482677  \n",
      "1         6.0       649.0  -65.5416622260015966  263.9215492182581522  \n",
      "hmdalar2012\n",
      "SELECT year, COUNT(income) AS count_loans, SUM(income::INT) AS sum_amt, AVG(income::INT) AS avg_income, \n",
      "    STDDEV(income::INT) AS std_income, MIN(income::INT) AS min_income, MAX(income::INT) AS max_income\n",
      "FROM hmdalar2012\n",
      "WHERE property_type = '1' AND loan_purpose = '1' AND agency != '7' AND income NOT ILIKE '%NA%' AND income::INT < 650AND income::INT > 5 GROUP BY year\n",
      "setting column names\n",
      "merging dataframes\n",
      "   year  count_loans      sum_amt            avg_income           std_income  \\\n",
      "0  2014    2859862.0  296642880.0  103.7262916882003397  85.8365794898239640   \n",
      "1  2013    3459055.0  343103470.0   99.1899434961282778  82.3658028610649372   \n",
      "2  2012    3248509.0  307834999.0   94.7619350908370579  79.6841384688784119   \n",
      "\n",
      "   min_income  max_income                 5_pct                95_pct  \n",
      "0         6.0       649.0  -67.9468672914475883  275.3994506678482677  \n",
      "1         6.0       649.0  -65.5416622260015966  263.9215492182581522  \n",
      "2         6.0       649.0  -64.6063418469197659  254.1302120285938817  \n",
      "hmdalar2011\n",
      "SELECT year, COUNT(income) AS count_loans, SUM(income::INT) AS sum_amt, AVG(income::INT) AS avg_income, \n",
      "    STDDEV(income::INT) AS std_income, MIN(income::INT) AS min_income, MAX(income::INT) AS max_income\n",
      "FROM hmdalar2011\n",
      "WHERE property_type = '1' AND loan_purpose = '1' AND agency != '7' AND income NOT ILIKE '%NA%' AND income::INT < 650AND income::INT > 5 GROUP BY year\n",
      "setting column names\n",
      "merging dataframes\n",
      "   year  count_loans      sum_amt            avg_income           std_income  \\\n",
      "0  2014    2859862.0  296642880.0  103.7262916882003397  85.8365794898239640   \n",
      "1  2013    3459055.0  343103470.0   99.1899434961282778  82.3658028610649372   \n",
      "2  2012    3248509.0  307834999.0   94.7619350908370579  79.6841384688784119   \n",
      "3  2011    3255748.0  298760055.0   91.7638757667976760  77.1180617806850598   \n",
      "\n",
      "   min_income  max_income                 5_pct                95_pct  \n",
      "0         6.0       649.0  -67.9468672914475883  275.3994506678482677  \n",
      "1         6.0       649.0  -65.5416622260015966  263.9215492182581522  \n",
      "2         6.0       649.0  -64.6063418469197659  254.1302120285938817  \n",
      "3         6.0       649.0  -62.4722477945724436  245.9999993281677956  \n",
      "hmdalar2010\n",
      "SELECT year, COUNT(income) AS count_loans, SUM(income::INT) AS sum_amt, AVG(income::INT) AS avg_income, \n",
      "    STDDEV(income::INT) AS std_income, MIN(income::INT) AS min_income, MAX(income::INT) AS max_income\n",
      "FROM hmdalar2010\n",
      "WHERE property_type = '1' AND loan_purpose = '1' AND agency != '7' AND income NOT ILIKE '%NA%' AND income::INT < 650AND income::INT > 5 GROUP BY year\n",
      "setting column names\n",
      "merging dataframes\n",
      "   year  count_loans      sum_amt            avg_income           std_income  \\\n",
      "0  2014    2859862.0  296642880.0  103.7262916882003397  85.8365794898239640   \n",
      "1  2013    3459055.0  343103470.0   99.1899434961282778  82.3658028610649372   \n",
      "2  2012    3248509.0  307834999.0   94.7619350908370579  79.6841384688784119   \n",
      "3  2011    3255748.0  298760055.0   91.7638757667976760  77.1180617806850598   \n",
      "4  2010    3684425.0  326721599.0   88.6764146372907577  73.2524019561771722   \n",
      "\n",
      "   min_income  max_income                 5_pct                95_pct  \n",
      "0         6.0       649.0  -67.9468672914475883  275.3994506678482677  \n",
      "1         6.0       649.0  -65.5416622260015966  263.9215492182581522  \n",
      "2         6.0       649.0  -64.6063418469197659  254.1302120285938817  \n",
      "3         6.0       649.0  -62.4722477945724436  245.9999993281677956  \n",
      "4         6.0       649.0  -57.8283892750635867  235.1812185496451021  \n",
      "hmdalar2009\n",
      "SELECT year, COUNT(income) AS count_loans, SUM(income::INT) AS sum_amt, AVG(income::INT) AS avg_income, \n",
      "    STDDEV(income::INT) AS std_income, MIN(income::INT) AS min_income, MAX(income::INT) AS max_income\n",
      "FROM hmdalar2009\n",
      "WHERE property_type = '1' AND loan_purpose = '1' AND agency != '7' AND income NOT ILIKE '%NA%' AND income::INT < 650AND income::INT > 5 GROUP BY year\n"
     ]
    }
   ],
   "source": [
    "\n",
    "#get descriptive statistics for the field named\n",
    "#FIXME add an optional set of limits to look at sub distributions min/max= 10/600? set by cumulative probability\n",
    "year = 2014\n",
    "first = True\n",
    "field = 'income'\n",
    "where_max = 650\n",
    "where_min = 5\n",
    "while year > 2003:\n",
    "    table = 'hmdalar' + str(year)\n",
    "    print(table)\n",
    "    #cur.execute(desc_stats(table=table, field=field))        \n",
    "    cur.execute(desc_stats(table=table, field=field, where_max=where_max, where_min=where_min))        \n",
    "    data_df = pd.DataFrame(cur.fetchall())\n",
    "\n",
    "    col_names = [desc[0] for desc in cur.description]\n",
    "    if len(data_df.columns) == len(col_names):\n",
    "        print('setting column names')\n",
    "        data_df.columns = col_names\n",
    "\n",
    "    if first == True and len(data_df.columns) > 0:\n",
    "        dist_df = data_df.copy()\n",
    "        first = False\n",
    "\n",
    "    elif first == False and len(data_df.columns) > 0:\n",
    "        print('merging dataframes')\n",
    "        dist_df=dist_df.merge(data_df, how='outer')\n",
    "\n",
    "    else:\n",
    "        print('no data returned from query')\n",
    "    dist_df['5_pct'] = dist_df['avg_{field}'.format(field=field)] - 2*dist_df['std_{field}'.format(field=field)]\n",
    "    dist_df['95_pct'] = dist_df['avg_{field}'.format(field=field)] + 2*dist_df['std_{field}'.format(field=field)]\n",
    "    print(dist_df.head())\n",
    "    path = 'dist_csvs/'\n",
    "    if not os.path.exists(path):\n",
    "        os.makedirs(path)\n",
    "    year -= 1\n",
    "dist_df.to_csv(path + '{field}_desc_stats.csv'.format(field=field),index=False)"
   ]
  },
  {
   "cell_type": "code",
   "execution_count": 4,
   "metadata": {
    "collapsed": false
   },
   "outputs": [
    {
     "name": "stdout",
     "output_type": "stream",
     "text": [
      "done\n"
     ]
    }
   ],
   "source": [
    "print('done')"
   ]
  },
  {
   "cell_type": "code",
   "execution_count": 45,
   "metadata": {
    "collapsed": false
   },
   "outputs": [],
   "source": [
    "#get distributions of values for fields\n",
    "def field_dist(field='income', table='hmdalar2014', prop_type='1', loan_purp='1', loan_type='1'):\n",
    "    dist_sql = \"\"\"SELECT DISTINCT year, {field}, COUNT({field}) FROM {table} \"\"\".format(table=table, field=field) \n",
    "    #removing the bulk of quesitonable data in exploration by removing HUD\n",
    "    where_sql = \"\"\"WHERE agency != '7' AND property_type IN ('{prop_type}') AND loan_purpose IN ('{loan_purp}') \n",
    "    AND loan_type IN ('{loan_type}') \"\"\".format(prop_type=prop_type, loan_purp=loan_purp, loan_type=loan_type)\n",
    "    order_sql = \"\"\"ORDER by {field} ASC \"\"\".format(field=field)\n",
    "    group_sql = \"\"\"GROUP BY {field}, year \"\"\".format(field=field)\n",
    "    return dist_sql + where_sql + group_sql + order_sql "
   ]
  },
  {
   "cell_type": "code",
   "execution_count": 46,
   "metadata": {
    "collapsed": false
   },
   "outputs": [
    {
     "name": "stdout",
     "output_type": "stream",
     "text": [
      "hmdalar2014\n",
      "setting column names\n",
      "   year amount  count\n",
      "0  2014  00001   2190\n",
      "1  2014  00002    919\n",
      "2  2014  00003   1305\n",
      "3  2014  00004   1490\n",
      "4  2014  00005   2307\n",
      "hmdalar2013\n",
      "setting column names\n",
      "merging dataframes\n",
      "   year amount   count\n",
      "0  2014  00001  2190.0\n",
      "1  2014  00002   919.0\n",
      "2  2014  00003  1305.0\n",
      "3  2014  00004  1490.0\n",
      "4  2014  00005  2307.0\n",
      "hmdalar2012\n",
      "setting column names\n",
      "merging dataframes\n",
      "   year amount   count\n",
      "0  2014  00001  2190.0\n",
      "1  2014  00002   919.0\n",
      "2  2014  00003  1305.0\n",
      "3  2014  00004  1490.0\n",
      "4  2014  00005  2307.0\n",
      "hmdalar2011\n",
      "setting column names\n",
      "merging dataframes\n",
      "   year amount   count\n",
      "0  2014  00001  2190.0\n",
      "1  2014  00002   919.0\n",
      "2  2014  00003  1305.0\n",
      "3  2014  00004  1490.0\n",
      "4  2014  00005  2307.0\n",
      "hmdalar2010\n",
      "setting column names\n",
      "merging dataframes\n",
      "   year amount   count\n",
      "0  2014  00001  2190.0\n",
      "1  2014  00002   919.0\n",
      "2  2014  00003  1305.0\n",
      "3  2014  00004  1490.0\n",
      "4  2014  00005  2307.0\n",
      "hmdalar2009\n",
      "setting column names\n",
      "merging dataframes\n",
      "   year amount   count\n",
      "0  2014  00001  2190.0\n",
      "1  2014  00002   919.0\n",
      "2  2014  00003  1305.0\n",
      "3  2014  00004  1490.0\n",
      "4  2014  00005  2307.0\n",
      "hmdalar2008\n",
      "setting column names\n",
      "merging dataframes\n",
      "   year amount   count\n",
      "0  2014  00001  2190.0\n",
      "1  2014  00002   919.0\n",
      "2  2014  00003  1305.0\n",
      "3  2014  00004  1490.0\n",
      "4  2014  00005  2307.0\n",
      "hmdalar2007\n",
      "setting column names\n",
      "merging dataframes\n",
      "   year amount   count\n",
      "0  2014  00001  2190.0\n",
      "1  2014  00002   919.0\n",
      "2  2014  00003  1305.0\n",
      "3  2014  00004  1490.0\n",
      "4  2014  00005  2307.0\n",
      "hmdalar2006\n",
      "setting column names\n",
      "merging dataframes\n",
      "   year amount   count\n",
      "0  2014  00001  2190.0\n",
      "1  2014  00002   919.0\n",
      "2  2014  00003  1305.0\n",
      "3  2014  00004  1490.0\n",
      "4  2014  00005  2307.0\n",
      "hmdalar2005\n",
      "setting column names\n",
      "merging dataframes\n",
      "   year amount   count\n",
      "0  2014  00001  2190.0\n",
      "1  2014  00002   919.0\n",
      "2  2014  00003  1305.0\n",
      "3  2014  00004  1490.0\n",
      "4  2014  00005  2307.0\n",
      "hmdalar2004\n",
      "setting column names\n",
      "merging dataframes\n",
      "   year amount   count\n",
      "0  2014  00001  2190.0\n",
      "1  2014  00002   919.0\n",
      "2  2014  00003  1305.0\n",
      "3  2014  00004  1490.0\n",
      "4  2014  00005  2307.0\n"
     ]
    }
   ],
   "source": [
    "year = 2014\n",
    "first = True\n",
    "field = 'amount'\n",
    "while year > 2003:\n",
    "    table = 'hmdalar' + str(year)\n",
    "    print(table)\n",
    "    cur.execute(field_dist(table=table, field=field))        \n",
    "    data_df = pd.DataFrame(cur.fetchall())\n",
    "\n",
    "    col_names = [desc[0] for desc in cur.description]\n",
    "    if len(data_df.columns) == len(col_names):\n",
    "        print('setting column names')\n",
    "        data_df.columns = col_names\n",
    "\n",
    "    if first == True and len(data_df.columns) > 0:\n",
    "        dist_df = data_df.copy()\n",
    "        first = False\n",
    "\n",
    "    elif first == False and len(data_df.columns) > 0:\n",
    "        print('merging dataframes')\n",
    "        dist_df=dist_df.merge(data_df, how='outer')\n",
    "\n",
    "    else:\n",
    "        print('no data returned from query')\n",
    "\n",
    "    print(dist_df.head())\n",
    "    path = 'dist_csvs/'\n",
    "    if not os.path.exists(path):\n",
    "        os.makedirs(path)\n",
    "    dist_df.to_csv(path + '{field}_dist.csv'.format(field=field),index=False)\n",
    "    year -= 1"
   ]
  },
  {
   "cell_type": "code",
   "execution_count": 234,
   "metadata": {
    "collapsed": false
   },
   "outputs": [],
   "source": [
    "#convert distribution to percent\n",
    "dist_2014 = dist_df[dist_df.year == '2014'].copy()\n",
    "dist_2014.amount = dist_2014.amount.astype(int)\n",
    "\n",
    "dist_2014['pct_count']=round(dist_2014['count']/dist_2014['count'].sum(),4)\n",
    "dist_2014['pct_amt']=dist_2014['amount']/dist_2014['amount'].sum()\n",
    "dist_2014['cumul_count_pct'] = 0\n",
    "dist_2014['cumul_amt_pct'] = 0\n",
    "#add cumulative percent by count and amount\n",
    "cumul_count = 0\n",
    "cumul_amount = 0\n",
    "for index, row in dist_2014.iterrows():\n",
    "    cumul_count += row['pct_count']\n",
    "    cumul_amount += row['pct_amt']\n",
    "    dist_2014.loc[index, 'cumul_count_pct']= cumul_count\n",
    "    dist_2014.loc[index, 'cumul_amt_pct'] = cumul_amount\n",
    "\n",
    "\n"
   ]
  },
  {
   "cell_type": "code",
   "execution_count": 236,
   "metadata": {
    "collapsed": false
   },
   "outputs": [
    {
     "data": {
      "text/plain": [
       "0         0.000011\n",
       "1         0.000034\n",
       "2         0.000067\n",
       "3         0.000112\n",
       "4         0.000168\n",
       "5         0.000236\n",
       "6         0.000314\n",
       "7         0.000404\n",
       "8         0.000505\n",
       "9         0.000617\n",
       "10        0.000740\n",
       "11        0.000875\n",
       "12        0.001021\n",
       "13        0.001178\n",
       "14        0.001346\n",
       "15        0.001525\n",
       "16        0.001716\n",
       "17        0.001918\n",
       "18        0.002131\n",
       "19        0.002355\n",
       "20        0.002591\n",
       "21        0.002837\n",
       "22        0.003095\n",
       "23        0.003365\n",
       "24        0.003645\n",
       "25        0.003937\n",
       "26        0.004239\n",
       "27        0.004553\n",
       "28        0.004879\n",
       "29        0.005215\n",
       "           ...    \n",
       "3421     86.834469\n",
       "3422     87.045877\n",
       "3423     87.270182\n",
       "3424     87.497998\n",
       "3425     87.731276\n",
       "3426     87.975208\n",
       "3427     88.233159\n",
       "3428     88.496718\n",
       "3429     88.772614\n",
       "3430     89.052996\n",
       "3431     89.337303\n",
       "3432     89.623292\n",
       "3433     89.909428\n",
       "3434     90.205511\n",
       "3435     90.515052\n",
       "3436     90.851511\n",
       "3437     91.199184\n",
       "3438     91.559194\n",
       "3439     91.940514\n",
       "3440     92.344264\n",
       "3441     92.792875\n",
       "3442     93.275131\n",
       "3443     93.902132\n",
       "3444     94.575049\n",
       "3445     95.304042\n",
       "3446     96.125134\n",
       "3447     96.966280\n",
       "3448     97.913970\n",
       "3449     98.878484\n",
       "3450    100.000000\n",
       "Name: cumul_amt_pct, dtype: float64"
      ]
     },
     "execution_count": 236,
     "metadata": {},
     "output_type": "execute_result"
    }
   ],
   "source": [
    "round(dist_2014.cumul_amt_pct,10)*100"
   ]
  },
  {
   "cell_type": "code",
   "execution_count": null,
   "metadata": {
    "collapsed": false
   },
   "outputs": [],
   "source": []
  },
  {
   "cell_type": "code",
   "execution_count": 169,
   "metadata": {
    "collapsed": false
   },
   "outputs": [
    {
     "data": {
      "text/plain": [
       "[<matplotlib.lines.Line2D at 0x11b0c5518>]"
      ]
     },
     "execution_count": 169,
     "metadata": {},
     "output_type": "execute_result"
    },
    {
     "data": {
      "image/png": "[encoded data removed]",
      "text/plain": [
       "<matplotlib.figure.Figure at 0x11aeac550>"
      ]
     },
     "metadata": {},
     "output_type": "display_data"
    }
   ],
   "source": []
  },
  {
   "cell_type": "code",
   "execution_count": 176,
   "metadata": {
    "collapsed": false
   },
   "outputs": [
    {
     "data": {
      "text/plain": [
       "<matplotlib.axes._subplots.AxesSubplot at 0x115a7b9e8>"
      ]
     },
     "execution_count": 176,
     "metadata": {},
     "output_type": "execute_result"
    },
    {
     "data": {
      "image/png": "[encoded data removed]",
      "text/plain": [
       "<matplotlib.figure.Figure at 0x11b086278>"
      ]
     },
     "metadata": {},
     "output_type": "display_data"
    }
   ],
   "source": []
  },
  {
   "cell_type": "code",
   "execution_count": 211,
   "metadata": {
    "collapsed": false
   },
   "outputs": [
    {
     "name": "stdout",
     "output_type": "stream",
     "text": [
      "114960\n"
     ]
    },
    {
     "data": {
      "text/plain": [
       "8801452"
      ]
     },
     "execution_count": 211,
     "metadata": {},
     "output_type": "execute_result"
    }
   ],
   "source": [
    "bin_size = Decimal(0)\n",
    "binned_pct = {}\n",
    "while bin_size <= Decimal(1):\n",
    "    \n",
    "    bin_start = bin_size #set start point for bin label\n",
    "    bin_size += Decimal(.1) #increment bin\n",
    "    bin_data = dist_2014['amount'][(dist_2014.cumul_pct >= bin_start) & (dist_2014.cumul_pct < bin_size)].sum().copy()\n",
    "    #print(dist_2014['amount'][(dist_2014.cumul_pct >= bin_start) & (dist_2014.cumul_pct < bin_size)].sum().copy())\n",
    "    binned_pct[str(bin_start) + ' to ' + str(bin_size)] = bin_data\n",
    "#dist_2014[dist_2014.cumul_pct <= .10]\n",
    "#binned_pct\n",
    "#sums= dist_2014['amount'].sum()\n",
    "#dist_2014['amount'][dist_2014.cumul_pct <= .1].sum()/sums\n",
    "print(dist_2014.amount[dist_2014.cumul_pct < Decimal(.9)].sum())\n",
    "\n",
    "dist_2014.amount[(dist_2014.cumul_pct >= Decimal(.9))].sum()# & (dist_2014.cumul_pct < Decimal(1))]"
   ]
  },
  {
   "cell_type": "code",
   "execution_count": 216,
   "metadata": {
    "collapsed": false
   },
   "outputs": [
    {
     "data": {
      "text/plain": [
       "0 to 0.1000000000000000055511151231                                    2080\n",
       "0.1000000000000000055511151231 to 0.2000000000000000111022302462       2673\n",
       "0.2000000000000000111022302462 to 0.3000000000000000166533453693       2997\n",
       "0.3000000000000000166533453693 to 0.4000000000000000222044604924       3726\n",
       "0.4000000000000000222044604924 to 0.5000000000000000277555756155       5915\n",
       "0.5000000000000000277555756155 to 0.6000000000000000333066907386       7809\n",
       "0.6000000000000000333066907386 to 0.7000000000000000388578058617      13026\n",
       "0.7000000000000000388578058617 to 0.8000000000000000444089209848      23199\n",
       "0.8000000000000000444089209848 to 0.9000000000000000499600361079      53535\n",
       "0.9000000000000000499600361079 to 1.000000000000000055511151231     8701453\n",
       "dtype: int64"
      ]
     },
     "execution_count": 216,
     "metadata": {},
     "output_type": "execute_result"
    }
   ],
   "source": [
    "binned_pct_df = pd.Series(binned_pct)#, columns = binned_pct.keys(), index=range(len(binned_pct.keys())))\n",
    "binned_pct_df"
   ]
  },
  {
   "cell_type": "code",
   "execution_count": 222,
   "metadata": {
    "collapsed": false
   },
   "outputs": [
    {
     "data": {
      "text/plain": [
       "(array([ 0.,  0.,  0.,  0.,  0.,  0.,  0.,  0.,  0.]),\n",
       " array([   2080,    2673,    2997,    3726,    5915,    7809,   13026,\n",
       "          23199,   53535, 8701453]),\n",
       " <a list of 9 Patch objects>)"
      ]
     },
     "execution_count": 222,
     "metadata": {},
     "output_type": "execute_result"
    },
    {
     "data": {
      "image/png": "[encoded data removed]",
      "text/plain": [
       "<matplotlib.figure.Figure at 0x114df90b8>"
      ]
     },
     "metadata": {},
     "output_type": "display_data"
    }
   ],
   "source": [
    "\n",
    "y = binned_pct_df\n",
    "x = range(len(binned_pct_df))\n",
    "\n",
    "plt.figure(figsize=(15,8))\n",
    "plt.hist(x,y)\n",
    "#plt.xlim(0, 1500)\n",
    "#plt.plot(x,y)\n",
    "\n"
   ]
  },
  {
   "cell_type": "code",
   "execution_count": null,
   "metadata": {
    "collapsed": false
   },
   "outputs": [],
   "source": []
  },
  {
   "cell_type": "code",
   "execution_count": null,
   "metadata": {
    "collapsed": true
   },
   "outputs": [],
   "source": []
  }
 ],
 "metadata": {
  "kernelspec": {
   "display_name": "Python 3",
   "language": "python",
   "name": "python3"
  },
  "language_info": {
   "codemirror_mode": {
    "name": "ipython",
    "version": 3
   },
   "file_extension": ".py",
   "mimetype": "text/x-python",
   "name": "python",
   "nbconvert_exporter": "python",
   "pygments_lexer": "ipython3",
   "version": "3.5.1"
  }
 },
 "nbformat": 4,
 "nbformat_minor": 0
}
