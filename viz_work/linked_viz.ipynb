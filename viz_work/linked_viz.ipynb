{
 "cells": [
  {
   "cell_type": "code",
   "execution_count": 2,
   "metadata": {
    "collapsed": false
   },
   "outputs": [
    {
     "name": "stdout",
     "output_type": "stream",
     "text": [
      "i'm connected\n"
     ]
    }
   ],
   "source": [
    "##############\n",
    "#K. David Roell CFPB 7/12/16\n",
    "#expands data selection for quality edits to include context for developing statistical approaches\n",
    "#will attemtp to segment mortgage market participants by loan activity by:\n",
    "#volume/count of lending, income of applicants, securitization, property type and other factors\n",
    "##############\n",
    "\n",
    "import json\n",
    "import os\n",
    "import pandas as pd\n",
    "import psycopg2\n",
    "import matplotlib\n",
    "import matplotlib.pyplot as plt\n",
    "import matplotlib.patches as mpatches\n",
    "import numpy as np\n",
    "get_ipython().magic(u'matplotlib inline')\n",
    "matplotlib.style.use('ggplot')\n",
    "#from macro_sql import Q076 \n",
    "with open('quality_sql.json') as f: #FIXME change to quality_sql.json and refactor the rest of code\n",
    "    edit_sql = json.load(f)\n",
    "    \n",
    "#parameter format for local use #consider changing hmdamaster to roellk if db changes cause a fail\n",
    "params = {\n",
    "'dbname':'hmdamaster',\n",
    "'user':'roellk',\n",
    "'password':'',\n",
    "'host':'localhost',\n",
    "}\n",
    "\n",
    "try:\n",
    "    conn = psycopg2.connect(**params)\n",
    "    cur = conn.cursor()\n",
    "    print(\"i'm connected\")\n",
    "\n",
    "except psycopg2.Error as e: #if database connection results in an error print the following\n",
    "    print(\"I am unable to connect to the database: \", e)"
   ]
  },
  {
   "cell_type": "code",
   "execution_count": 3,
   "metadata": {
    "collapsed": false
   },
   "outputs": [],
   "source": [
    "link_df = pd.read_csv('dist_csvs/income_to_amount_dist_.csv')"
   ]
  },
  {
   "cell_type": "code",
   "execution_count": 42,
   "metadata": {
    "collapsed": false
   },
   "outputs": [
    {
     "data": {
      "text/html": [
       "<div>\n",
       "<table border=\"1\" class=\"dataframe\">\n",
       "  <thead>\n",
       "    <tr style=\"text-align: right;\">\n",
       "      <th></th>\n",
       "      <th>year</th>\n",
       "      <th>income</th>\n",
       "      <th>amount</th>\n",
       "      <th>count_income</th>\n",
       "      <th>mult</th>\n",
       "    </tr>\n",
       "  </thead>\n",
       "  <tbody>\n",
       "    <tr>\n",
       "      <th>2216549</th>\n",
       "      <td>2004</td>\n",
       "      <td>9999</td>\n",
       "      <td>9999</td>\n",
       "      <td>1</td>\n",
       "      <td>1.00000</td>\n",
       "    </tr>\n",
       "    <tr>\n",
       "      <th>2216550</th>\n",
       "      <td>2004</td>\n",
       "      <td>9999</td>\n",
       "      <td>10000</td>\n",
       "      <td>1</td>\n",
       "      <td>1.00010</td>\n",
       "    </tr>\n",
       "    <tr>\n",
       "      <th>2216551</th>\n",
       "      <td>2004</td>\n",
       "      <td>9999</td>\n",
       "      <td>11000</td>\n",
       "      <td>1</td>\n",
       "      <td>1.10011</td>\n",
       "    </tr>\n",
       "    <tr>\n",
       "      <th>2216552</th>\n",
       "      <td>2004</td>\n",
       "      <td>9999</td>\n",
       "      <td>12000</td>\n",
       "      <td>1</td>\n",
       "      <td>1.20012</td>\n",
       "    </tr>\n",
       "    <tr>\n",
       "      <th>2216553</th>\n",
       "      <td>2004</td>\n",
       "      <td>9999</td>\n",
       "      <td>18000</td>\n",
       "      <td>1</td>\n",
       "      <td>1.80018</td>\n",
       "    </tr>\n",
       "  </tbody>\n",
       "</table>\n",
       "</div>"
      ],
      "text/plain": [
       "         year  income  amount  count_income     mult\n",
       "2216549  2004    9999    9999             1  1.00000\n",
       "2216550  2004    9999   10000             1  1.00010\n",
       "2216551  2004    9999   11000             1  1.10011\n",
       "2216552  2004    9999   12000             1  1.20012\n",
       "2216553  2004    9999   18000             1  1.80018"
      ]
     },
     "execution_count": 42,
     "metadata": {},
     "output_type": "execute_result"
    }
   ],
   "source": [
    "#link_df = link_df[link_df.year == 2014].copy()\n",
    "link_df.income = link_df.income.map(int)\n",
    "link_df.amount = link_df.amount.map(int)\n",
    "link_df['mult'] = link_df.amount/link_df.income\n",
    "link_df.tail()\n",
    "#link_df.drop(link_df['count.1'], inplace=True)"
   ]
  },
  {
   "cell_type": "code",
   "execution_count": 43,
   "metadata": {
    "collapsed": true
   },
   "outputs": [],
   "source": [
    "df_20to30 = link_df[(link_df['income'] > 20) & (link_df['income'] <= 30)].copy()\n",
    "#df_20to30 = df_20to30[(df_20to30.amount < max_q) & (df_20to30.amount > min_q) & (df_20to30.year == 2014)]\n",
    "max_20to30 = link_df.amount[(link_df['income'] > 20) & (link_df['income'] < 30)].max()\n",
    "min_20to30 = link_df.amount[(link_df['income'] > 20) & (link_df['income'] < 30)].min()\n",
    "\n",
    "amt_range = max_20to30 - min_20to30"
   ]
  },
  {
   "cell_type": "code",
   "execution_count": 55,
   "metadata": {
    "collapsed": false
   },
   "outputs": [
    {
     "name": "stdout",
     "output_type": "stream",
     "text": [
      "583.814801427 std\n",
      "186.478834356 mean\n",
      "150.0 median\n",
      "2347.82608696 max mult\n",
      "0.0333333333333 min mult\n",
      "609.02 98%\n",
      "238.0 q3\n",
      "76.0 q1\n",
      "7.0 02%\n",
      "162.0 iqr\n"
     ]
    },
    {
     "data": {
      "text/html": [
       "<div>\n",
       "<table border=\"1\" class=\"dataframe\">\n",
       "  <thead>\n",
       "    <tr style=\"text-align: right;\">\n",
       "      <th></th>\n",
       "      <th>year</th>\n",
       "      <th>income</th>\n",
       "      <th>amount</th>\n",
       "      <th>count_income</th>\n",
       "      <th>mult</th>\n",
       "    </tr>\n",
       "  </thead>\n",
       "  <tbody>\n",
       "    <tr>\n",
       "      <th>3692</th>\n",
       "      <td>2014</td>\n",
       "      <td>21</td>\n",
       "      <td>1</td>\n",
       "      <td>3</td>\n",
       "      <td>0.047619</td>\n",
       "    </tr>\n",
       "    <tr>\n",
       "      <th>3693</th>\n",
       "      <td>2014</td>\n",
       "      <td>21</td>\n",
       "      <td>4</td>\n",
       "      <td>1</td>\n",
       "      <td>0.190476</td>\n",
       "    </tr>\n",
       "    <tr>\n",
       "      <th>3694</th>\n",
       "      <td>2014</td>\n",
       "      <td>21</td>\n",
       "      <td>5</td>\n",
       "      <td>5</td>\n",
       "      <td>0.238095</td>\n",
       "    </tr>\n",
       "    <tr>\n",
       "      <th>3695</th>\n",
       "      <td>2014</td>\n",
       "      <td>21</td>\n",
       "      <td>6</td>\n",
       "      <td>2</td>\n",
       "      <td>0.285714</td>\n",
       "    </tr>\n",
       "    <tr>\n",
       "      <th>3696</th>\n",
       "      <td>2014</td>\n",
       "      <td>21</td>\n",
       "      <td>8</td>\n",
       "      <td>1</td>\n",
       "      <td>0.380952</td>\n",
       "    </tr>\n",
       "    <tr>\n",
       "      <th>3697</th>\n",
       "      <td>2014</td>\n",
       "      <td>21</td>\n",
       "      <td>9</td>\n",
       "      <td>3</td>\n",
       "      <td>0.428571</td>\n",
       "    </tr>\n",
       "    <tr>\n",
       "      <th>3698</th>\n",
       "      <td>2014</td>\n",
       "      <td>21</td>\n",
       "      <td>10</td>\n",
       "      <td>9</td>\n",
       "      <td>0.476190</td>\n",
       "    </tr>\n",
       "    <tr>\n",
       "      <th>3699</th>\n",
       "      <td>2014</td>\n",
       "      <td>21</td>\n",
       "      <td>11</td>\n",
       "      <td>3</td>\n",
       "      <td>0.523810</td>\n",
       "    </tr>\n",
       "    <tr>\n",
       "      <th>3700</th>\n",
       "      <td>2014</td>\n",
       "      <td>21</td>\n",
       "      <td>12</td>\n",
       "      <td>7</td>\n",
       "      <td>0.571429</td>\n",
       "    </tr>\n",
       "    <tr>\n",
       "      <th>3701</th>\n",
       "      <td>2014</td>\n",
       "      <td>21</td>\n",
       "      <td>13</td>\n",
       "      <td>5</td>\n",
       "      <td>0.619048</td>\n",
       "    </tr>\n",
       "    <tr>\n",
       "      <th>3702</th>\n",
       "      <td>2014</td>\n",
       "      <td>21</td>\n",
       "      <td>14</td>\n",
       "      <td>9</td>\n",
       "      <td>0.666667</td>\n",
       "    </tr>\n",
       "    <tr>\n",
       "      <th>3703</th>\n",
       "      <td>2014</td>\n",
       "      <td>21</td>\n",
       "      <td>15</td>\n",
       "      <td>12</td>\n",
       "      <td>0.714286</td>\n",
       "    </tr>\n",
       "    <tr>\n",
       "      <th>3704</th>\n",
       "      <td>2014</td>\n",
       "      <td>21</td>\n",
       "      <td>16</td>\n",
       "      <td>15</td>\n",
       "      <td>0.761905</td>\n",
       "    </tr>\n",
       "    <tr>\n",
       "      <th>3705</th>\n",
       "      <td>2014</td>\n",
       "      <td>21</td>\n",
       "      <td>17</td>\n",
       "      <td>7</td>\n",
       "      <td>0.809524</td>\n",
       "    </tr>\n",
       "    <tr>\n",
       "      <th>3706</th>\n",
       "      <td>2014</td>\n",
       "      <td>21</td>\n",
       "      <td>18</td>\n",
       "      <td>12</td>\n",
       "      <td>0.857143</td>\n",
       "    </tr>\n",
       "    <tr>\n",
       "      <th>3707</th>\n",
       "      <td>2014</td>\n",
       "      <td>21</td>\n",
       "      <td>19</td>\n",
       "      <td>12</td>\n",
       "      <td>0.904762</td>\n",
       "    </tr>\n",
       "    <tr>\n",
       "      <th>3708</th>\n",
       "      <td>2014</td>\n",
       "      <td>21</td>\n",
       "      <td>20</td>\n",
       "      <td>29</td>\n",
       "      <td>0.952381</td>\n",
       "    </tr>\n",
       "    <tr>\n",
       "      <th>3709</th>\n",
       "      <td>2014</td>\n",
       "      <td>21</td>\n",
       "      <td>21</td>\n",
       "      <td>15</td>\n",
       "      <td>1.000000</td>\n",
       "    </tr>\n",
       "    <tr>\n",
       "      <th>3710</th>\n",
       "      <td>2014</td>\n",
       "      <td>21</td>\n",
       "      <td>22</td>\n",
       "      <td>19</td>\n",
       "      <td>1.047619</td>\n",
       "    </tr>\n",
       "    <tr>\n",
       "      <th>3711</th>\n",
       "      <td>2014</td>\n",
       "      <td>21</td>\n",
       "      <td>23</td>\n",
       "      <td>17</td>\n",
       "      <td>1.095238</td>\n",
       "    </tr>\n",
       "    <tr>\n",
       "      <th>3712</th>\n",
       "      <td>2014</td>\n",
       "      <td>21</td>\n",
       "      <td>24</td>\n",
       "      <td>23</td>\n",
       "      <td>1.142857</td>\n",
       "    </tr>\n",
       "    <tr>\n",
       "      <th>3713</th>\n",
       "      <td>2014</td>\n",
       "      <td>21</td>\n",
       "      <td>25</td>\n",
       "      <td>34</td>\n",
       "      <td>1.190476</td>\n",
       "    </tr>\n",
       "    <tr>\n",
       "      <th>3714</th>\n",
       "      <td>2014</td>\n",
       "      <td>21</td>\n",
       "      <td>26</td>\n",
       "      <td>17</td>\n",
       "      <td>1.238095</td>\n",
       "    </tr>\n",
       "    <tr>\n",
       "      <th>3715</th>\n",
       "      <td>2014</td>\n",
       "      <td>21</td>\n",
       "      <td>27</td>\n",
       "      <td>19</td>\n",
       "      <td>1.285714</td>\n",
       "    </tr>\n",
       "    <tr>\n",
       "      <th>3716</th>\n",
       "      <td>2014</td>\n",
       "      <td>21</td>\n",
       "      <td>28</td>\n",
       "      <td>25</td>\n",
       "      <td>1.333333</td>\n",
       "    </tr>\n",
       "    <tr>\n",
       "      <th>3717</th>\n",
       "      <td>2014</td>\n",
       "      <td>21</td>\n",
       "      <td>29</td>\n",
       "      <td>25</td>\n",
       "      <td>1.380952</td>\n",
       "    </tr>\n",
       "    <tr>\n",
       "      <th>3718</th>\n",
       "      <td>2014</td>\n",
       "      <td>21</td>\n",
       "      <td>30</td>\n",
       "      <td>70</td>\n",
       "      <td>1.428571</td>\n",
       "    </tr>\n",
       "    <tr>\n",
       "      <th>3719</th>\n",
       "      <td>2014</td>\n",
       "      <td>21</td>\n",
       "      <td>31</td>\n",
       "      <td>22</td>\n",
       "      <td>1.476190</td>\n",
       "    </tr>\n",
       "    <tr>\n",
       "      <th>3720</th>\n",
       "      <td>2014</td>\n",
       "      <td>21</td>\n",
       "      <td>32</td>\n",
       "      <td>46</td>\n",
       "      <td>1.523810</td>\n",
       "    </tr>\n",
       "    <tr>\n",
       "      <th>3721</th>\n",
       "      <td>2014</td>\n",
       "      <td>21</td>\n",
       "      <td>33</td>\n",
       "      <td>28</td>\n",
       "      <td>1.571429</td>\n",
       "    </tr>\n",
       "    <tr>\n",
       "      <th>3722</th>\n",
       "      <td>2014</td>\n",
       "      <td>21</td>\n",
       "      <td>34</td>\n",
       "      <td>35</td>\n",
       "      <td>1.619048</td>\n",
       "    </tr>\n",
       "    <tr>\n",
       "      <th>3723</th>\n",
       "      <td>2014</td>\n",
       "      <td>21</td>\n",
       "      <td>35</td>\n",
       "      <td>47</td>\n",
       "      <td>1.666667</td>\n",
       "    </tr>\n",
       "    <tr>\n",
       "      <th>3724</th>\n",
       "      <td>2014</td>\n",
       "      <td>21</td>\n",
       "      <td>36</td>\n",
       "      <td>43</td>\n",
       "      <td>1.714286</td>\n",
       "    </tr>\n",
       "    <tr>\n",
       "      <th>3725</th>\n",
       "      <td>2014</td>\n",
       "      <td>21</td>\n",
       "      <td>37</td>\n",
       "      <td>29</td>\n",
       "      <td>1.761905</td>\n",
       "    </tr>\n",
       "    <tr>\n",
       "      <th>3726</th>\n",
       "      <td>2014</td>\n",
       "      <td>21</td>\n",
       "      <td>38</td>\n",
       "      <td>48</td>\n",
       "      <td>1.809524</td>\n",
       "    </tr>\n",
       "    <tr>\n",
       "      <th>3727</th>\n",
       "      <td>2014</td>\n",
       "      <td>21</td>\n",
       "      <td>39</td>\n",
       "      <td>26</td>\n",
       "      <td>1.857143</td>\n",
       "    </tr>\n",
       "    <tr>\n",
       "      <th>3728</th>\n",
       "      <td>2014</td>\n",
       "      <td>21</td>\n",
       "      <td>40</td>\n",
       "      <td>107</td>\n",
       "      <td>1.904762</td>\n",
       "    </tr>\n",
       "    <tr>\n",
       "      <th>3729</th>\n",
       "      <td>2014</td>\n",
       "      <td>21</td>\n",
       "      <td>41</td>\n",
       "      <td>33</td>\n",
       "      <td>1.952381</td>\n",
       "    </tr>\n",
       "    <tr>\n",
       "      <th>3730</th>\n",
       "      <td>2014</td>\n",
       "      <td>21</td>\n",
       "      <td>42</td>\n",
       "      <td>40</td>\n",
       "      <td>2.000000</td>\n",
       "    </tr>\n",
       "    <tr>\n",
       "      <th>3731</th>\n",
       "      <td>2014</td>\n",
       "      <td>21</td>\n",
       "      <td>43</td>\n",
       "      <td>39</td>\n",
       "      <td>2.047619</td>\n",
       "    </tr>\n",
       "  </tbody>\n",
       "</table>\n",
       "</div>"
      ],
      "text/plain": [
       "      year  income  amount  count_income      mult\n",
       "3692  2014      21       1             3  0.047619\n",
       "3693  2014      21       4             1  0.190476\n",
       "3694  2014      21       5             5  0.238095\n",
       "3695  2014      21       6             2  0.285714\n",
       "3696  2014      21       8             1  0.380952\n",
       "3697  2014      21       9             3  0.428571\n",
       "3698  2014      21      10             9  0.476190\n",
       "3699  2014      21      11             3  0.523810\n",
       "3700  2014      21      12             7  0.571429\n",
       "3701  2014      21      13             5  0.619048\n",
       "3702  2014      21      14             9  0.666667\n",
       "3703  2014      21      15            12  0.714286\n",
       "3704  2014      21      16            15  0.761905\n",
       "3705  2014      21      17             7  0.809524\n",
       "3706  2014      21      18            12  0.857143\n",
       "3707  2014      21      19            12  0.904762\n",
       "3708  2014      21      20            29  0.952381\n",
       "3709  2014      21      21            15  1.000000\n",
       "3710  2014      21      22            19  1.047619\n",
       "3711  2014      21      23            17  1.095238\n",
       "3712  2014      21      24            23  1.142857\n",
       "3713  2014      21      25            34  1.190476\n",
       "3714  2014      21      26            17  1.238095\n",
       "3715  2014      21      27            19  1.285714\n",
       "3716  2014      21      28            25  1.333333\n",
       "3717  2014      21      29            25  1.380952\n",
       "3718  2014      21      30            70  1.428571\n",
       "3719  2014      21      31            22  1.476190\n",
       "3720  2014      21      32            46  1.523810\n",
       "3721  2014      21      33            28  1.571429\n",
       "3722  2014      21      34            35  1.619048\n",
       "3723  2014      21      35            47  1.666667\n",
       "3724  2014      21      36            43  1.714286\n",
       "3725  2014      21      37            29  1.761905\n",
       "3726  2014      21      38            48  1.809524\n",
       "3727  2014      21      39            26  1.857143\n",
       "3728  2014      21      40           107  1.904762\n",
       "3729  2014      21      41            33  1.952381\n",
       "3730  2014      21      42            40  2.000000\n",
       "3731  2014      21      43            39  2.047619"
      ]
     },
     "execution_count": 55,
     "metadata": {},
     "output_type": "execute_result"
    }
   ],
   "source": [
    "\n",
    "#df_20to30 = df_20to30[(df_20to30.amount <520) & (df_20to30.amount > 10)]\n",
    "print(df_20to30.amount.std(), 'std')\n",
    "print(df_20to30.amount.mean(), 'mean')\n",
    "print(df_20to30.amount.median(), 'median')\n",
    "print(df_20to30.mult.max(), 'max mult')\n",
    "print(df_20to30.mult.min(), 'min mult')\n",
    "print(df_20to30.amount.quantile(q=.98), '98%')\n",
    "print(df_20to30.amount.quantile(q=.75), 'q3')\n",
    "print(df_20to30.amount.quantile(q=.25), 'q1')\n",
    "print(df_20to30.amount.quantile(q=.02), '02%')\n",
    "q1 = df_20to30.amount.quantile(q=.25)\n",
    "q3 = df_20to30.amount.quantile(q=.75)\n",
    "iqr =(q3 - q1)\n",
    "print(iqr, 'iqr')\n",
    "min_q = q1 - 1.5*iqr\n",
    "max_q = q3 + 1.5*iqr\n",
    "df_20to30.head(40)"
   ]
  },
  {
   "cell_type": "code",
   "execution_count": 1,
   "metadata": {
    "collapsed": false
   },
   "outputs": [
    {
     "ename": "NameError",
     "evalue": "name 'df_20to30' is not defined",
     "output_type": "error",
     "traceback": [
      "\u001b[0;31m---------------------------------------------------------------------------\u001b[0m",
      "\u001b[0;31mNameError\u001b[0m                                 Traceback (most recent call last)",
      "\u001b[0;32m<ipython-input-1-3e9431d28540>\u001b[0m in \u001b[0;36m<module>\u001b[0;34m()\u001b[0m\n\u001b[1;32m      2\u001b[0m \u001b[0;34m\u001b[0m\u001b[0m\n\u001b[1;32m      3\u001b[0m \u001b[0;32mtry\u001b[0m\u001b[0;34m:\u001b[0m\u001b[0;34m\u001b[0m\u001b[0m\n\u001b[0;32m----> 4\u001b[0;31m     \u001b[0mdf_20to30\u001b[0m\u001b[0;34m.\u001b[0m\u001b[0msort_values\u001b[0m\u001b[0;34m(\u001b[0m\u001b[0mby\u001b[0m\u001b[0;34m=\u001b[0m\u001b[0mdf_20to30\u001b[0m\u001b[0;34m.\u001b[0m\u001b[0mamount\u001b[0m\u001b[0;34m,\u001b[0m\u001b[0maxis\u001b[0m\u001b[0;34m=\u001b[0m\u001b[0;36m0\u001b[0m\u001b[0;34m,\u001b[0m \u001b[0minplace\u001b[0m\u001b[0;34m=\u001b[0m\u001b[0;32mTrue\u001b[0m\u001b[0;34m)\u001b[0m\u001b[0;34m\u001b[0m\u001b[0m\n\u001b[0m\u001b[1;32m      5\u001b[0m \u001b[0;32mexcept\u001b[0m \u001b[0mIndexError\u001b[0m \u001b[0;32mas\u001b[0m \u001b[0me\u001b[0m\u001b[0;34m:\u001b[0m\u001b[0;34m\u001b[0m\u001b[0m\n\u001b[1;32m      6\u001b[0m     \u001b[0mprint\u001b[0m\u001b[0;34m(\u001b[0m\u001b[0me\u001b[0m\u001b[0;34m)\u001b[0m\u001b[0;34m\u001b[0m\u001b[0m\n",
      "\u001b[0;31mNameError\u001b[0m: name 'df_20to30' is not defined"
     ]
    }
   ],
   "source": [
    "#df_20to30 = df_20to30[(df_20to30.amount < max_q) & (df_20to30.amount > min_q) & (df_20to30.year == 2014)]\n",
    "\n",
    "try:\n",
    "    df_20to30.sort_values(by=df_20to30.amount,axis=0, inplace=True)\n",
    "except IndexError as e:\n",
    "    print(e)\n",
    "q1 = df_20to30.amount.quantile(q=.25)\n",
    "q3 = df_20to30.amount.quantile(q=.75)\n",
    "iqr =(q3 - q1)\n",
    "print(iqr, 'iqr')\n",
    "min_q = q1 - 1.5*iqr\n",
    "max_q = q3 + 1.5*iqr\n",
    "\n",
    "\n",
    "print(df_20to30.amount.std(), 'std')\n",
    "print(df_20to30.amount.mean(), 'mean')\n",
    "print(df_20to30.amount.median(), 'median')\n",
    "print(df_20to30.amount.max(), 'max', df_20to30.amount.min(), 'min')\n",
    "\n",
    "print(df_20to30.mult.max(), 'max mult')\n",
    "print(df_20to30.mult.min(), 'min mult')\n",
    "print(df_20to30.amount.quantile(q=.98), '98%')\n",
    "print(df_20to30.amount.quantile(q=.75), '75%')\n",
    "print(df_20to30.amount.quantile(q=.25), '25%')\n",
    "print(df_20to30.amount.quantile(q=.02), '02%')\n",
    "    "
   ]
  },
  {
   "cell_type": "code",
   "execution_count": 30,
   "metadata": {
    "collapsed": false
   },
   "outputs": [
    {
     "ename": "AttributeError",
     "evalue": "'Series' object has no attribute 'sorted'",
     "output_type": "error",
     "traceback": [
      "\u001b[0;31m---------------------------------------------------------------------------\u001b[0m",
      "\u001b[0;31mAttributeError\u001b[0m                            Traceback (most recent call last)",
      "\u001b[0;32m<ipython-input-30-37b14384773e>\u001b[0m in \u001b[0;36m<module>\u001b[0;34m()\u001b[0m\n\u001b[1;32m      1\u001b[0m \u001b[0mline\u001b[0m \u001b[0;34m=\u001b[0m \u001b[0mplt\u001b[0m\u001b[0;34m.\u001b[0m\u001b[0mfigure\u001b[0m\u001b[0;34m(\u001b[0m\u001b[0mfigsize\u001b[0m\u001b[0;34m=\u001b[0m\u001b[0;34m(\u001b[0m\u001b[0;36m15\u001b[0m\u001b[0;34m,\u001b[0m\u001b[0;36m12\u001b[0m\u001b[0;34m)\u001b[0m\u001b[0;34m)\u001b[0m\u001b[0;34m\u001b[0m\u001b[0m\n\u001b[1;32m      2\u001b[0m \u001b[0my\u001b[0m \u001b[0;34m=\u001b[0m \u001b[0mdf_20to30\u001b[0m\u001b[0;34m[\u001b[0m\u001b[0;34m'count_income'\u001b[0m\u001b[0;34m]\u001b[0m\u001b[0;34m\u001b[0m\u001b[0m\n\u001b[0;32m----> 3\u001b[0;31m \u001b[0mx\u001b[0m \u001b[0;34m=\u001b[0m \u001b[0mdf_20to30\u001b[0m\u001b[0;34m.\u001b[0m\u001b[0mamount\u001b[0m\u001b[0;34m.\u001b[0m\u001b[0msorted\u001b[0m\u001b[0;34m(\u001b[0m\u001b[0;34m)\u001b[0m\u001b[0;34m\u001b[0m\u001b[0m\n\u001b[0m\u001b[1;32m      4\u001b[0m \u001b[0mplt\u001b[0m\u001b[0;34m.\u001b[0m\u001b[0mplot\u001b[0m\u001b[0;34m(\u001b[0m\u001b[0mx\u001b[0m\u001b[0;34m,\u001b[0m\u001b[0my\u001b[0m\u001b[0;34m)\u001b[0m\u001b[0;34m\u001b[0m\u001b[0m\n",
      "\u001b[0;32m/Users/roellk/homebrew/lib/python3.5/site-packages/pandas/core/generic.py\u001b[0m in \u001b[0;36m__getattr__\u001b[0;34m(self, name)\u001b[0m\n\u001b[1;32m   2670\u001b[0m             \u001b[0;32mif\u001b[0m \u001b[0mname\u001b[0m \u001b[0;32min\u001b[0m \u001b[0mself\u001b[0m\u001b[0;34m.\u001b[0m\u001b[0m_info_axis\u001b[0m\u001b[0;34m:\u001b[0m\u001b[0;34m\u001b[0m\u001b[0m\n\u001b[1;32m   2671\u001b[0m                 \u001b[0;32mreturn\u001b[0m \u001b[0mself\u001b[0m\u001b[0;34m[\u001b[0m\u001b[0mname\u001b[0m\u001b[0;34m]\u001b[0m\u001b[0;34m\u001b[0m\u001b[0m\n\u001b[0;32m-> 2672\u001b[0;31m             \u001b[0;32mreturn\u001b[0m \u001b[0mobject\u001b[0m\u001b[0;34m.\u001b[0m\u001b[0m__getattribute__\u001b[0m\u001b[0;34m(\u001b[0m\u001b[0mself\u001b[0m\u001b[0;34m,\u001b[0m \u001b[0mname\u001b[0m\u001b[0;34m)\u001b[0m\u001b[0;34m\u001b[0m\u001b[0m\n\u001b[0m\u001b[1;32m   2673\u001b[0m \u001b[0;34m\u001b[0m\u001b[0m\n\u001b[1;32m   2674\u001b[0m     \u001b[0;32mdef\u001b[0m \u001b[0m__setattr__\u001b[0m\u001b[0;34m(\u001b[0m\u001b[0mself\u001b[0m\u001b[0;34m,\u001b[0m \u001b[0mname\u001b[0m\u001b[0;34m,\u001b[0m \u001b[0mvalue\u001b[0m\u001b[0;34m)\u001b[0m\u001b[0;34m:\u001b[0m\u001b[0;34m\u001b[0m\u001b[0m\n",
      "\u001b[0;31mAttributeError\u001b[0m: 'Series' object has no attribute 'sorted'"
     ]
    },
    {
     "data": {
      "text/plain": [
       "<matplotlib.figure.Figure at 0x11015c2b0>"
      ]
     },
     "metadata": {},
     "output_type": "display_data"
    }
   ],
   "source": [
    "line = plt.figure(figsize=(15,12))\n",
    "y = df_20to30['count_income']\n",
    "x = df_20to30.amount\n",
    "plt.plot(x,y)"
   ]
  },
  {
   "cell_type": "code",
   "execution_count": 22,
   "metadata": {
    "collapsed": false
   },
   "outputs": [
    {
     "data": {
      "text/plain": [
       "<matplotlib.axes._subplots.AxesSubplot at 0x1065575c0>"
      ]
     },
     "execution_count": 22,
     "metadata": {},
     "output_type": "execute_result"
    },
    {
     "data": {
      "image/png": "[encoded data removed]",
      "text/plain": [
       "<matplotlib.figure.Figure at 0x106557898>"
      ]
     },
     "metadata": {},
     "output_type": "display_data"
    }
   ],
   "source": [
    "box = plt.figure(figsize=(15,15))\n",
    "df_20to30.amount.plot(kind='box')\n",
    "#df_20to30.income.plot(kind='box')"
   ]
  },
  {
   "cell_type": "code",
   "execution_count": 9,
   "metadata": {
    "collapsed": false
   },
   "outputs": [
    {
     "name": "stdout",
     "output_type": "stream",
     "text": [
      "91.4686073695 std\n",
      "152.174780257 mean\n",
      "148.0 median\n",
      "10.875 max mult\n",
      "0.025 min mult\n",
      "330.0 98%\n",
      "223.0 75%\n",
      "74.25 25%\n",
      "6.14 02%\n"
     ]
    }
   ],
   "source": [
    "df_30to40 = link_df[(link_df['income'] > 30) & (link_df['income'] <= 40) & (link_df.year ==2014)].copy()\n",
    "df_30to40 = df_30to40[(df_30to40.amount <350)] #& (df_30to40.amount > 10)] #set min and max reasonable distributions\n",
    "print(df_30to40.amount.std(), 'std')\n",
    "print(df_30to40.amount.mean(), 'mean')\n",
    "print(df_30to40.amount.median(), 'median')\n",
    "print(df_30to40.mult.max(), 'max mult')\n",
    "print(df_30to40.mult.min(), 'min mult')\n",
    "print(df_30to40.amount.quantile(q=.98), '98%')\n",
    "print(df_30to40.amount.quantile(q=.75), '75%')\n",
    "print(df_30to40.amount.quantile(q=.25), '25%')\n",
    "print(df_30to40.amount.quantile(q=.02), '02%')"
   ]
  },
  {
   "cell_type": "code",
   "execution_count": 23,
   "metadata": {
    "collapsed": false
   },
   "outputs": [
    {
     "ename": "NameError",
     "evalue": "name 'df_30to40' is not defined",
     "output_type": "error",
     "traceback": [
      "\u001b[0;31m---------------------------------------------------------------------------\u001b[0m",
      "\u001b[0;31mNameError\u001b[0m                                 Traceback (most recent call last)",
      "\u001b[0;32m<ipython-input-23-999780588eea>\u001b[0m in \u001b[0;36m<module>\u001b[0;34m()\u001b[0m\n\u001b[1;32m      1\u001b[0m \u001b[0mbox\u001b[0m \u001b[0;34m=\u001b[0m \u001b[0mplt\u001b[0m\u001b[0;34m.\u001b[0m\u001b[0mfigure\u001b[0m\u001b[0;34m(\u001b[0m\u001b[0mfigsize\u001b[0m\u001b[0;34m=\u001b[0m\u001b[0;34m(\u001b[0m\u001b[0;36m15\u001b[0m\u001b[0;34m,\u001b[0m\u001b[0;36m15\u001b[0m\u001b[0;34m)\u001b[0m\u001b[0;34m)\u001b[0m\u001b[0;34m\u001b[0m\u001b[0m\n\u001b[0;32m----> 2\u001b[0;31m \u001b[0mdf_30to40\u001b[0m\u001b[0;34m.\u001b[0m\u001b[0mamount\u001b[0m\u001b[0;34m.\u001b[0m\u001b[0mplot\u001b[0m\u001b[0;34m(\u001b[0m\u001b[0mkind\u001b[0m\u001b[0;34m=\u001b[0m\u001b[0;34m'box'\u001b[0m\u001b[0;34m)\u001b[0m\u001b[0;34m\u001b[0m\u001b[0m\n\u001b[0m",
      "\u001b[0;31mNameError\u001b[0m: name 'df_30to40' is not defined"
     ]
    },
    {
     "data": {
      "text/plain": [
       "<matplotlib.figure.Figure at 0x1085d15f8>"
      ]
     },
     "metadata": {},
     "output_type": "display_data"
    }
   ],
   "source": [
    "box = plt.figure(figsize=(15,15))\n",
    "df_30to40.amount.plot(kind='box')"
   ]
  },
  {
   "cell_type": "code",
   "execution_count": 24,
   "metadata": {
    "collapsed": false
   },
   "outputs": [
    {
     "ename": "NameError",
     "evalue": "name 'df_30to40' is not defined",
     "output_type": "error",
     "traceback": [
      "\u001b[0;31m---------------------------------------------------------------------------\u001b[0m",
      "\u001b[0;31mNameError\u001b[0m                                 Traceback (most recent call last)",
      "\u001b[0;32m<ipython-input-24-2baedc7acb0f>\u001b[0m in \u001b[0;36m<module>\u001b[0;34m()\u001b[0m\n\u001b[1;32m      1\u001b[0m \u001b[0mamt\u001b[0m \u001b[0;34m=\u001b[0m \u001b[0mplt\u001b[0m\u001b[0;34m.\u001b[0m\u001b[0mfigure\u001b[0m\u001b[0;34m(\u001b[0m\u001b[0mfigsize\u001b[0m\u001b[0;34m=\u001b[0m\u001b[0;34m(\u001b[0m\u001b[0;36m15\u001b[0m\u001b[0;34m,\u001b[0m\u001b[0;36m10\u001b[0m\u001b[0;34m)\u001b[0m\u001b[0;34m)\u001b[0m\u001b[0;34m\u001b[0m\u001b[0m\n\u001b[0;32m----> 2\u001b[0;31m \u001b[0mx\u001b[0m \u001b[0;34m=\u001b[0m \u001b[0mdf_30to40\u001b[0m\u001b[0;34m.\u001b[0m\u001b[0mamount\u001b[0m\u001b[0;34m\u001b[0m\u001b[0m\n\u001b[0m\u001b[1;32m      3\u001b[0m \u001b[0;31m#plt.xticks(np.arange(min(x), max(x)+1, 150))\u001b[0m\u001b[0;34m\u001b[0m\u001b[0;34m\u001b[0m\u001b[0m\n\u001b[1;32m      4\u001b[0m \u001b[0my\u001b[0m \u001b[0;34m=\u001b[0m \u001b[0mdf_30to40\u001b[0m\u001b[0;34m[\u001b[0m\u001b[0;34m'count'\u001b[0m\u001b[0;34m]\u001b[0m\u001b[0;34m\u001b[0m\u001b[0m\n\u001b[1;32m      5\u001b[0m \u001b[0;34m\u001b[0m\u001b[0m\n",
      "\u001b[0;31mNameError\u001b[0m: name 'df_30to40' is not defined"
     ]
    },
    {
     "data": {
      "text/plain": [
       "<matplotlib.figure.Figure at 0x10eca8160>"
      ]
     },
     "metadata": {},
     "output_type": "display_data"
    }
   ],
   "source": [
    "amt = plt.figure(figsize=(15,10))\n",
    "x = df_30to40.amount\n",
    "#plt.xticks(np.arange(min(x), max(x)+1, 150))\n",
    "y = df_30to40['count']\n",
    "\n",
    "plt.plot(x,y)\n",
    "plt.show(amt)"
   ]
  },
  {
   "cell_type": "code",
   "execution_count": 12,
   "metadata": {
    "collapsed": false
   },
   "outputs": [
    {
     "data": {
      "text/html": [
       "<div>\n",
       "<table border=\"1\" class=\"dataframe\">\n",
       "  <thead>\n",
       "    <tr style=\"text-align: right;\">\n",
       "      <th></th>\n",
       "      <th>year</th>\n",
       "      <th>income</th>\n",
       "      <th>amount</th>\n",
       "      <th>count</th>\n",
       "      <th>count.1</th>\n",
       "      <th>mult</th>\n",
       "    </tr>\n",
       "  </thead>\n",
       "  <tbody>\n",
       "    <tr>\n",
       "      <th>10431</th>\n",
       "      <td>2014</td>\n",
       "      <td>40</td>\n",
       "      <td>337</td>\n",
       "      <td>1</td>\n",
       "      <td>1</td>\n",
       "      <td>8.425</td>\n",
       "    </tr>\n",
       "    <tr>\n",
       "      <th>10432</th>\n",
       "      <td>2014</td>\n",
       "      <td>40</td>\n",
       "      <td>340</td>\n",
       "      <td>2</td>\n",
       "      <td>2</td>\n",
       "      <td>8.500</td>\n",
       "    </tr>\n",
       "    <tr>\n",
       "      <th>10433</th>\n",
       "      <td>2014</td>\n",
       "      <td>40</td>\n",
       "      <td>342</td>\n",
       "      <td>1</td>\n",
       "      <td>1</td>\n",
       "      <td>8.550</td>\n",
       "    </tr>\n",
       "    <tr>\n",
       "      <th>10434</th>\n",
       "      <td>2014</td>\n",
       "      <td>40</td>\n",
       "      <td>344</td>\n",
       "      <td>1</td>\n",
       "      <td>1</td>\n",
       "      <td>8.600</td>\n",
       "    </tr>\n",
       "    <tr>\n",
       "      <th>10435</th>\n",
       "      <td>2014</td>\n",
       "      <td>40</td>\n",
       "      <td>348</td>\n",
       "      <td>1</td>\n",
       "      <td>1</td>\n",
       "      <td>8.700</td>\n",
       "    </tr>\n",
       "  </tbody>\n",
       "</table>\n",
       "</div>"
      ],
      "text/plain": [
       "       year  income  amount  count  count.1   mult\n",
       "10431  2014      40     337      1        1  8.425\n",
       "10432  2014      40     340      2        2  8.500\n",
       "10433  2014      40     342      1        1  8.550\n",
       "10434  2014      40     344      1        1  8.600\n",
       "10435  2014      40     348      1        1  8.700"
      ]
     },
     "execution_count": 12,
     "metadata": {},
     "output_type": "execute_result"
    }
   ],
   "source": [
    "df_30to40.tail()"
   ]
  },
  {
   "cell_type": "code",
   "execution_count": null,
   "metadata": {
    "collapsed": true
   },
   "outputs": [],
   "source": []
  }
 ],
 "metadata": {
  "kernelspec": {
   "display_name": "Python 3",
   "language": "python",
   "name": "python3"
  },
  "language_info": {
   "codemirror_mode": {
    "name": "ipython",
    "version": 3
   },
   "file_extension": ".py",
   "mimetype": "text/x-python",
   "name": "python",
   "nbconvert_exporter": "python",
   "pygments_lexer": "ipython3",
   "version": "3.5.1"
  }
 },
 "nbformat": 4,
 "nbformat_minor": 0
}
