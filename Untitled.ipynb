{
 "cells": [
  {
   "cell_type": "code",
   "execution_count": 23,
   "metadata": {
    "collapsed": false
   },
   "outputs": [
    {
     "name": "stdout",
     "output_type": "stream",
     "text": [
      "i'm connected\n"
     ]
    }
   ],
   "source": [
    "##############\n",
    "#K. David Roell CFPB 7/12/16\n",
    "#Compiles a report of all quality and macro edit failures for HMDA LAR data\n",
    "#\n",
    "##############\n",
    "\n",
    "import os\n",
    "import pandas as pd\n",
    "import psycopg2\n",
    "\n",
    "from SQL_text import *\n",
    "from SQL_text import Q001\n",
    "import SQL_text\n",
    "#conn = psycopg2.connect(\"dbname=hmdamaster user=roellk\") #connect and return connection\n",
    "#cur = conn.cursor()#instantiate cursor object to use in SQL queries\n",
    "#parameter format for local use #consider changing hmdamaster to roellk if db changes cause a fail\n",
    "params = {\n",
    "'dbname':'hmdamaster',\n",
    "'user':'roellk',\n",
    "'password':'',\n",
    "'host':'localhost',\n",
    "\n",
    "}\n",
    "\n",
    "#connect_string = \"dbname=%s user=%s host=%s password =%s\" %(dbname, user, host, password) #set a string for connection to SQL\n",
    "try:\n",
    "    conn = psycopg2.connect(**params)\n",
    "    cur = conn.cursor()\n",
    "    print(\"i'm connected\")\n",
    "\n",
    "except psycopg2.Error as e: #if database connection results in an error print the following\n",
    "    print(\"I am unable to connect to the database: \", e)\n",
    "\n",
    "\n",
    "lar_tables = ['hmdalar2014', 'hmdalar2013']\n",
    "edit_list = [item for item in dir(SQL_text) if not item.startswith(\"__\")]"
   ]
  },
  {
   "cell_type": "code",
   "execution_count": 24,
   "metadata": {
    "collapsed": false
   },
   "outputs": [],
   "source": [
    "def edit_text(table='hmdalar2014', edit_sql=Q001, additional_fields=[]):\n",
    "    base_sql = \"\"\"SELECT agency, COUNT(sequence) \"\"\"\n",
    "    table_sql = \"\\nFROM {table}\\n\".format(table=table) \n",
    "    group_sql = \"\"\"GROUP BY agency\"\"\"\n",
    "\n",
    "    add_fields = ''\n",
    "    for field in additional_fields:\n",
    "        base_sql = base_sql + ',' + field\n",
    "        group_sql = group_sql + ', '+ field\n",
    "    return_sql = base_sql + table_sql + edit_sql + group_sql + ';'\n",
    "    return return_sql "
   ]
  },
  {
   "cell_type": "code",
   "execution_count": 30,
   "metadata": {
    "collapsed": false
   },
   "outputs": [
    {
     "name": "stdout",
     "output_type": "stream",
     "text": [
      "SELECT agency, COUNT(sequence) \n",
      "FROM hmdalar2014\n",
      "Q001GROUP BY agency; \n",
      "\n",
      "SELECT agency, COUNT(sequence) \n",
      "FROM hmdalar2014\n",
      "Q002GROUP BY agency; \n",
      "\n",
      "SELECT agency, COUNT(sequence) \n",
      "FROM hmdalar2014\n",
      "Q003GROUP BY agency; \n",
      "\n",
      "SELECT agency, COUNT(sequence) \n",
      "FROM hmdalar2014\n",
      "Q004GROUP BY agency; \n",
      "\n",
      "SELECT agency, COUNT(sequence) \n",
      "FROM hmdalar2014\n",
      "Q005GROUP BY agency; \n",
      "\n",
      "SELECT agency, COUNT(sequence) \n",
      "FROM hmdalar2014\n",
      "Q013GROUP BY agency; \n",
      "\n",
      "SELECT agency, COUNT(sequence) \n",
      "FROM hmdalar2014\n",
      "Q014GROUP BY agency; \n",
      "\n",
      "SELECT agency, COUNT(sequence) \n",
      "FROM hmdalar2014\n",
      "Q024GROUP BY agency; \n",
      "\n",
      "SELECT agency, COUNT(sequence) \n",
      "FROM hmdalar2014\n",
      "Q025GROUP BY agency; \n",
      "\n",
      "SELECT agency, COUNT(sequence) \n",
      "FROM hmdalar2014\n",
      "Q032GROUP BY agency; \n",
      "\n",
      "SELECT agency, COUNT(sequence) \n",
      "FROM hmdalar2014\n",
      "Q035GROUP BY agency; \n",
      "\n",
      "SELECT agency, COUNT(sequence) \n",
      "FROM hmdalar2014\n",
      "Q036GROUP BY agency; \n",
      "\n",
      "SELECT agency, COUNT(sequence) \n",
      "FROM hmdalar2014\n",
      "Q037GROUP BY agency; \n",
      "\n",
      "SELECT agency, COUNT(sequence) \n",
      "FROM hmdalar2014\n",
      "Q038GROUP BY agency; \n",
      "\n",
      "SELECT agency, COUNT(sequence) \n",
      "FROM hmdalar2014\n",
      "Q068GROUP BY agency; \n",
      "\n"
     ]
    }
   ],
   "source": [
    "for edit in edit_list:\n",
    "    print(edit_text(edit_sql=edit), '\\n')\n"
   ]
  },
  {
   "cell_type": "code",
   "execution_count": 26,
   "metadata": {
    "collapsed": false
   },
   "outputs": [
    {
     "name": "stdout",
     "output_type": "stream",
     "text": [
      "['Q001', 'Q002', 'Q003', 'Q004', 'Q005', 'Q013', 'Q014', 'Q024', 'Q025', 'Q032', 'Q035', 'Q036', 'Q037', 'Q038', 'Q068']\n"
     ]
    }
   ],
   "source": [
    "print([item for item in dir(SQL_text) if not item.startswith(\"__\")])"
   ]
  },
  {
   "cell_type": "code",
   "execution_count": null,
   "metadata": {
    "collapsed": true
   },
   "outputs": [],
   "source": []
  }
 ],
 "metadata": {
  "kernelspec": {
   "display_name": "Python 3",
   "language": "python",
   "name": "python3"
  },
  "language_info": {
   "codemirror_mode": {
    "name": "ipython",
    "version": 3
   },
   "file_extension": ".py",
   "mimetype": "text/x-python",
   "name": "python",
   "nbconvert_exporter": "python",
   "pygments_lexer": "ipython3",
   "version": "3.5.1"
  }
 },
 "nbformat": 4,
 "nbformat_minor": 0
}
