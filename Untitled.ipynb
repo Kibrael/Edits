{
 "cells": [
  {
   "cell_type": "code",
   "execution_count": 10,
   "metadata": {
    "collapsed": false
   },
   "outputs": [
    {
     "name": "stdout",
     "output_type": "stream",
     "text": [
      "i'm connected\n"
     ]
    }
   ],
   "source": [
    "##############\n",
    "#K. David Roell CFPB 7/12/16\n",
    "#Compiles a report of all quality and macro edit failures for HMDA LAR data\n",
    "#\n",
    "##############\n",
    "import json\n",
    "import os\n",
    "import pandas as pd\n",
    "import psycopg2\n",
    "\n",
    "with open('edit_sql.json') as f:\n",
    "    edit_sql = json.load(f)\n",
    "    \n",
    "#conn = psycopg2.connect(\"dbname=hmdamaster user=roellk\") #connect and return connection\n",
    "#cur = conn.cursor()#instantiate cursor object to use in SQL queries\n",
    "#parameter format for local use #consider changing hmdamaster to roellk if db changes cause a fail\n",
    "params = {\n",
    "'dbname':'hmdamaster',\n",
    "'user':'roellk',\n",
    "'password':'',\n",
    "'host':'localhost',\n",
    "\n",
    "}\n",
    "\n",
    "#connect_string = \"dbname=%s user=%s host=%s password =%s\" %(dbname, user, host, password) #set a string for connection to SQL\n",
    "try:\n",
    "    conn = psycopg2.connect(**params)\n",
    "    cur = conn.cursor()\n",
    "    print(\"i'm connected\")\n",
    "\n",
    "except psycopg2.Error as e: #if database connection results in an error print the following\n",
    "    print(\"I am unable to connect to the database: \", e)\n",
    "\n",
    "\n",
    "lar_tables = ['hmdalar2014', 'hmdalar2013']\n",
    "#edit_list = [item for item in dir(SQL_text) if not item.startswith(\"__\")]"
   ]
  },
  {
   "cell_type": "code",
   "execution_count": 11,
   "metadata": {
    "collapsed": false
   },
   "outputs": [],
   "source": [
    "def edit_text(table='hmdalar2014', edit_sql=edit_sql[0]['text'], additional_fields=[]):\n",
    "    base_sql = \"\"\"SELECT agency, COUNT(sequence) \"\"\"\n",
    "    table_sql = \"\\nFROM {table}\\n\".format(table=table) \n",
    "    group_sql = \"\"\" GROUP BY agency\"\"\"\n",
    "\n",
    "    add_fields = ''\n",
    "    for field in additional_fields:\n",
    "        base_sql = base_sql + ',' + field\n",
    "        group_sql = group_sql + ', '+ field\n",
    "    return_sql = base_sql + table_sql + edit_sql + group_sql + ';'\n",
    "    print(return_sql)\n",
    "    return return_sql "
   ]
  },
  {
   "cell_type": "code",
   "execution_count": 12,
   "metadata": {
    "collapsed": false,
    "scrolled": true
   },
   "outputs": [
    {
     "name": "stdout",
     "output_type": "stream",
     "text": [
      "SELECT agency, COUNT(sequence) \n",
      "FROM hmdalar2014\n",
      "WHERE loan_type != '1' AND purchaser IN  ('1','3') GROUP BY agency;\n",
      "  agency  count\n",
      "0      9    199\n",
      "1      3    446\n",
      "2      1    408\n",
      "3      7   1579\n",
      "4      2    158\n",
      "5      5    156\n",
      "SELECT agency, COUNT(sequence) \n",
      "FROM hmdalar2014\n",
      "WHERE amount not like '%NA%' AND income not like '%NA%' AND amount::int >= 1000 AND (amount::int / income::int) < 5 GROUP BY agency;\n",
      "  agency  count\n",
      "0      9  54243\n",
      "1      3   4614\n",
      "2      1   4514\n",
      "3      7   9280\n",
      "4      2   1667\n",
      "5      5   1699\n",
      "SELECT agency, COUNT(sequence) \n",
      "FROM hmdalar2014\n",
      "WHERE property_type = '1' AND income NOT LIKE '%NA%' AND amount NOT LIKE '%NA%' AND income::INT >= 200 AND amount::INT >= 2000 GROUP BY agency;\n",
      "  agency  count\n",
      "0      9   9892\n",
      "1      3    704\n",
      "2      1    971\n",
      "3      7    673\n",
      "4      2    274\n",
      "5      5    214\n",
      "SELECT agency, COUNT(sequence) \n",
      "FROM hmdalar2014\n",
      "WHERE loan_type = '2' AND property_type in ('1', '2') AND amount::INT > 626 AND amount NOT LIKE '%NA%' GROUP BY agency;\n",
      "  agency  count\n",
      "0      3    114\n",
      "1      9   1178\n",
      "2      7   3107\n",
      "3      1    139\n",
      "4      2     72\n",
      "5      5     13\n",
      "SELECT agency, COUNT(sequence) \n",
      "FROM hmdalar2014\n",
      "WHERE loan_type = '3' AND property_type IN ('1', '2') AND amount::INT >= 1050 AND amount NOT LIKE '%NA%' GROUP BY agency;\n",
      "  agency  count\n",
      "0      9    192\n",
      "1      3     48\n",
      "2      7    487\n",
      "3      1     57\n",
      "4      2      7\n",
      "SELECT agency, COUNT(sequence) \n",
      "FROM hmdalar2014\n",
      "WHERE purchaser IN ('1', '2', '3', '4') AND property_type IN ('1', '2') AND amount::INT > 1203 AND amount NOT LIKE '%NA%' GROUP BY agency;\n",
      "  agency  count\n",
      "0      9     51\n",
      "1      3      4\n",
      "2      7     52\n",
      "3      1      7\n",
      "4      2      1\n",
      "5      5      2\n",
      "SELECT agency, COUNT(sequence) \n",
      "FROM hmdalar2014\n",
      "WHERE property_type = '3' AND amount::INT >= 100 AND amount::INT <= 10000 AND amount NOT LIKE '%NA%' GROUP BY agency;\n",
      "  agency  count\n",
      "0      3  12200\n",
      "1      9  16326\n",
      "2      1   6668\n",
      "3      7   2294\n",
      "4      2   3245\n",
      "5      5   1303\n",
      "SELECT agency, COUNT(sequence) \n",
      "FROM hmdalar2014\n",
      "WHERE property_type = '2' AND amount::INT > 150 AND amount NOT LIKE '%NA%' GROUP BY agency;\n",
      "  agency  count\n",
      "0      9   5118\n",
      "1      3   2384\n",
      "2      7  15224\n",
      "3      1    988\n",
      "4      2    479\n",
      "5      5   1454\n",
      "SELECT agency, COUNT(sequence) \n",
      "FROM hmdalar2014\n",
      "WHERE lien = '2' AND amount::INT > 250 AND amount NOT LIKE '%NA%' GROUP BY agency;\n",
      "  agency  count\n",
      "0      9   2646\n",
      "1      3   1459\n",
      "2      1    542\n",
      "3      7    330\n",
      "4      2    365\n",
      "5      5    502\n",
      "SELECT agency, COUNT(sequence) \n",
      "FROM hmdalar2014\n",
      "WHERE lien = '3' AND amount::INT > 100 AND amount NOT LIKE '%NA%' GROUP BY agency;\n",
      "  agency  count\n",
      "0      9    546\n",
      "1      3    203\n",
      "2      7     11\n",
      "3      1     98\n",
      "4      2     41\n",
      "5      5     84\n",
      "SELECT agency, COUNT(sequence) \n",
      "FROM hmdalar2014\n",
      "WHERE loan_purpose = '1' AND property_type = '1' AND amount::INT <=10 AND amount NOT LIKE '%NA' GROUP BY agency;\n",
      "  agency  count\n",
      "0      9   8302\n",
      "1      3   3980\n",
      "2      1   4152\n",
      "3      7  23214\n",
      "4      2   2123\n",
      "5      5   1253\n",
      "SELECT agency, COUNT(sequence) \n",
      "FROM hmdalar2014\n",
      "WHERE action IN ('1', '2', '3', '4', '5', '7', '8') AND ethnicity = '4' AND race = '7' AND sex = '4' AND co_ethnicity = '4' AND co_race1 = '7' AND co_sex = '4' GROUP BY agency;\n",
      "  agency  count\n",
      "0      3   2166\n",
      "1      9   1068\n",
      "2      1   1241\n",
      "3      7   1205\n",
      "4      2    361\n",
      "5      5    510\n",
      "SELECT agency, COUNT(sequence) \n",
      "FROM hmdalar2014\n",
      "WHERE income::INT > 3000 AND income NOT LIKE '%NA%' GROUP BY agency;\n",
      "  agency  count\n",
      "0      9   2400\n",
      "1      3    333\n",
      "2      7    375\n",
      "3      1    297\n",
      "4      2    116\n",
      "5      5     53\n",
      "SELECT agency, COUNT(sequence) \n",
      "FROM hmdalar2014\n",
      "WHERE action = '1' AND (amount::INT / income::INT) >= 5 AND income::INT <= 9 AND income NOT LIKE '%NA%' AND amount NOT LIKE '%NA%'  GROUP BY agency;\n",
      "  agency  count\n",
      "0      9   2876\n",
      "1      3    533\n",
      "2      7   1519\n",
      "3      1    160\n",
      "4      2     98\n",
      "5      5     82\n",
      "SELECT agency, COUNT(sequence) \n",
      "FROM hmdalar2014\n",
      "WHERE action in ('1', '2', '3', '4', '5', '7', '8') AND property_type IN ('1', '2') AND income LIKE '%NA'  GROUP BY agency;\n",
      "no dataz\n",
      "SELECT agency, COUNT(sequence) \n",
      "FROM hmdalar2014\n",
      "WHERE action in ('1', '2', '3', '4', '5', '7', '8') AND ethnicity = '4' AND race = '7' AND sex = '4' AND co_ethnicity = '4' AND co_race1 = '7' AND co_sex = '4' AND income NOT LIKE '%NA%' GROUP BY agency;\n",
      "  agency  count\n",
      "0      3     25\n",
      "1      9      2\n",
      "2      1     83\n",
      "3      7      8\n",
      "4      2      8\n",
      "5      5    115\n",
      "SELECT agency, COUNT(sequence) \n",
      "FROM hmdalar2014\n",
      "WHERE action = '1' AND action_taken_date == application_received_date GROUP BY agency;\n",
      "no dataz\n"
     ]
    }
   ],
   "source": [
    "for edit in edit_sql:\n",
    "    name, text = edit['name'], edit['text']\n",
    "    try:\n",
    "        cur.execute(edit_text(edit_sql=text))\n",
    "        data_df = pd.DataFrame(cur.fetchall())\n",
    "        col_names = [desc[0] for desc in cur.description]\n",
    "        data_df.columns = col_names\n",
    "        print(data_df)\n",
    "    except:\n",
    "        print('no dataz')\n"
   ]
  },
  {
   "cell_type": "code",
   "execution_count": 13,
   "metadata": {
    "collapsed": false
   },
   "outputs": [
    {
     "name": "stdout",
     "output_type": "stream",
     "text": [
      "SELECT agency, COUNT(sequence) \n",
      "FROM hmdalar2014\n",
      "WHERE action = '1' AND action_taken_date == application_received_date GROUP BY agency;\n"
     ]
    },
    {
     "ename": "InternalError",
     "evalue": "current transaction is aborted, commands ignored until end of transaction block\n",
     "output_type": "error",
     "traceback": [
      "\u001b[0;31m---------------------------------------------------------------------------\u001b[0m",
      "\u001b[0;31mInternalError\u001b[0m                             Traceback (most recent call last)",
      "\u001b[0;32m<ipython-input-13-19abab3b4973>\u001b[0m in \u001b[0;36m<module>\u001b[0;34m()\u001b[0m\n\u001b[1;32m      1\u001b[0m \u001b[0;34m\u001b[0m\u001b[0m\n\u001b[0;32m----> 2\u001b[0;31m \u001b[0mcur\u001b[0m\u001b[0;34m.\u001b[0m\u001b[0mexecute\u001b[0m\u001b[0;34m(\u001b[0m\u001b[0medit_text\u001b[0m\u001b[0;34m(\u001b[0m\u001b[0medit_sql\u001b[0m\u001b[0;34m=\u001b[0m\u001b[0mtext\u001b[0m\u001b[0;34m)\u001b[0m\u001b[0;34m)\u001b[0m\u001b[0;34m\u001b[0m\u001b[0m\n\u001b[0m\u001b[1;32m      3\u001b[0m \u001b[0mdata_df\u001b[0m \u001b[0;34m=\u001b[0m \u001b[0mpd\u001b[0m\u001b[0;34m.\u001b[0m\u001b[0mDataFrame\u001b[0m\u001b[0;34m(\u001b[0m\u001b[0mcur\u001b[0m\u001b[0;34m.\u001b[0m\u001b[0mfetchall\u001b[0m\u001b[0;34m(\u001b[0m\u001b[0;34m)\u001b[0m\u001b[0;34m)\u001b[0m\u001b[0;34m\u001b[0m\u001b[0m\n\u001b[1;32m      4\u001b[0m \u001b[0mcol_names\u001b[0m \u001b[0;34m=\u001b[0m \u001b[0;34m[\u001b[0m\u001b[0mdesc\u001b[0m\u001b[0;34m[\u001b[0m\u001b[0;36m0\u001b[0m\u001b[0;34m]\u001b[0m \u001b[0;32mfor\u001b[0m \u001b[0mdesc\u001b[0m \u001b[0;32min\u001b[0m \u001b[0mcur\u001b[0m\u001b[0;34m.\u001b[0m\u001b[0mdescription\u001b[0m\u001b[0;34m]\u001b[0m\u001b[0;34m\u001b[0m\u001b[0m\n\u001b[1;32m      5\u001b[0m \u001b[0mdata_df\u001b[0m\u001b[0;34m.\u001b[0m\u001b[0mcolumns\u001b[0m \u001b[0;34m=\u001b[0m \u001b[0mcol_names\u001b[0m\u001b[0;34m\u001b[0m\u001b[0m\n",
      "\u001b[0;31mInternalError\u001b[0m: current transaction is aborted, commands ignored until end of transaction block\n"
     ]
    }
   ],
   "source": [
    "\n",
    "cur.execute(edit_text(edit_sql=text))\n",
    "data_df = pd.DataFrame(cur.fetchall())\n",
    "col_names = [desc[0] for desc in cur.description]\n",
    "data_df.columns = col_names\n",
    "data_df"
   ]
  },
  {
   "cell_type": "code",
   "execution_count": null,
   "metadata": {
    "collapsed": false
   },
   "outputs": [],
   "source": []
  },
  {
   "cell_type": "code",
   "execution_count": null,
   "metadata": {
    "collapsed": false
   },
   "outputs": [],
   "source": []
  },
  {
   "cell_type": "code",
   "execution_count": null,
   "metadata": {
    "collapsed": false
   },
   "outputs": [],
   "source": []
  },
  {
   "cell_type": "code",
   "execution_count": null,
   "metadata": {
    "collapsed": true
   },
   "outputs": [],
   "source": []
  },
  {
   "cell_type": "code",
   "execution_count": null,
   "metadata": {
    "collapsed": false
   },
   "outputs": [],
   "source": []
  },
  {
   "cell_type": "code",
   "execution_count": null,
   "metadata": {
    "collapsed": true
   },
   "outputs": [],
   "source": []
  }
 ],
 "metadata": {
  "kernelspec": {
   "display_name": "Python 3",
   "language": "python",
   "name": "python3"
  },
  "language_info": {
   "codemirror_mode": {
    "name": "ipython",
    "version": 3
   },
   "file_extension": ".py",
   "mimetype": "text/x-python",
   "name": "python",
   "nbconvert_exporter": "python",
   "pygments_lexer": "ipython3",
   "version": "3.5.1"
  }
 },
 "nbformat": 4,
 "nbformat_minor": 0
}
