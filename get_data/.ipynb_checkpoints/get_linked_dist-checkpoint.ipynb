{
 "cells": [
  {
   "cell_type": "code",
   "execution_count": 12,
   "metadata": {
    "collapsed": false
   },
   "outputs": [
    {
     "name": "stdout",
     "output_type": "stream",
     "text": [
      "i'm connected\n"
     ]
    }
   ],
   "source": [
    "##############\n",
    "#K. David Roell CFPB 7/12/16\n",
    "#expands data selection for quality edits to include context for developing statistical approaches\n",
    "#will attemtp to segment mortgage market participants by loan activity by:\n",
    "#volume/count of lending, income of applicants, securitization, property type and other factors\n",
    "##############\n",
    "\n",
    "import json\n",
    "import os\n",
    "import pandas as pd\n",
    "import psycopg2\n",
    "import matplotlib\n",
    "import matplotlib.pyplot as plt\n",
    "import matplotlib.patches as mpatches\n",
    "import numpy as np\n",
    "get_ipython().magic(u'matplotlib inline')\n",
    "matplotlib.style.use('ggplot')\n",
    "\n",
    "with open('quality_sql.json') as f: #FIXME change to quality_sql.json and refactor the rest of code\n",
    "    edit_sql = json.load(f)\n",
    "    \n",
    "#parameter format for local use #consider changing hmdamaster to roellk if db changes cause a fail\n",
    "params = {\n",
    "'dbname':'hmdamaster',\n",
    "'user':'roellk',\n",
    "'password':'',\n",
    "'host':'localhost',\n",
    "}\n",
    "\n",
    "try:\n",
    "    conn = psycopg2.connect(**params)\n",
    "    cur = conn.cursor()\n",
    "    print(\"i'm connected\")\n",
    "\n",
    "except psycopg2.Error as e: #if database connection results in an error print the following\n",
    "    print(\"I am unable to connect to the database: \", e)"
   ]
  },
  {
   "cell_type": "code",
   "execution_count": 8,
   "metadata": {
    "collapsed": true
   },
   "outputs": [],
   "source": [
    "#get distributions of values for fields\n",
    "def field_dist_geo(field1=None, field2=None, table=None, geo_level=None, prop_type=None, loan_purp=None, loan_type=None, occupancy=None, lien=None):\n",
    "    \"\"\"generates a sql statement used to pull values and associated counts for the listed variable subject to listed filters\"\"\"\n",
    "    #FIXME convert default values to no filters by passing all codes\n",
    "    for key, value in kwargs.items():\n",
    "        \n",
    "    if geo_level == 'msa':\n",
    "        geo_sql = 'msa,'\n",
    "    elif geo_level == 'state':\n",
    "        geo_sql = 'state,'\n",
    "    elif geo_level == 'county':\n",
    "        geo_sql = 'CONCAT(state,county),'\n",
    "    elif geo_level == 'tract':\n",
    "        geo_sql = 'CONCAT(state,county,tract),'\n",
    "    else:\n",
    "        geo_sql = ''\n",
    "    \n",
    "    dist_sql = \"\"\"SELECT DISTINCT year, {geo_sql} {field1}, {field2}\n",
    "    FROM {table} \"\"\".format(table=table, field1=field1, field2=field2, geo_sql=geo_sql) \n",
    "    #FIXME make flexible to acommodate lack of geography\n",
    "    #FIXME convert named params to None and raise value error \n",
    "    #removing the bulk of quesitonable data in exploration by removing HUD\n",
    "    where_sql = \"\"\"WHERE agency != '7' AND property_type IN ('{prop_type}') AND loan_purpose IN ('{loan_purp}') \n",
    "    AND loan_type IN ({loanCodes}) AND occupancy='{occupancy}' AND lien = '{lien}' AND income NOT ILIKE '%NA%' AND amount NOT ILIKE \n",
    "    '%NA%' \"\"\".format(prop_type=prop_type, loan_purp=loan_purp,  lien=lien, occupancy=occupancy, loanCodes=loanCodes)\n",
    "\n",
    "    group_sql = \"\"\"GROUP BY year, {geo_group} {field1}, {field2}\"\"\".format(field1=field1, field2=field2, geo_group=geo_sql)\n",
    "    order_sql = \"\"\" ORDER by {field1}, {field2} ASC \"\"\".format(field1=field1, field2=field2)\n",
    "    return_sql = dist_sql + where_sql + group_sql + order_sql\n",
    "    print(return_sql)\n",
    "    return return_sql\n",
    "#test 90000451965"
   ]
  },
  {
   "cell_type": "code",
   "execution_count": 23,
   "metadata": {
    "collapsed": false
   },
   "outputs": [],
   "source": [
    "def get_field_dist(year=None, field1=None, field2=None, geo_level='', prop_type=None, loan_purp=None, loan_type=None, occupancy=None, lien=None):\n",
    "    \"\"\"executes SQL to get distributions of data by selected geography for the stated field for multiple years of hmda\"\"\"\n",
    "    first = True\n",
    "    while year > 2003:\n",
    "        table = 'hmdalar' + str(year)\n",
    "        print(table)\n",
    "        cur.execute(field_dist_geo(table=table, field1=field1, field2=field2, geo_level=geo_level, prop_type=prop_type,  loan_purp=loan_purp, occupancy=occupancy, lien=lien))        \n",
    "        data_df = pd.DataFrame(cur.fetchall())\n",
    "\n",
    "        col_names = [desc[0] for desc in cur.description]\n",
    "        if len(data_df.columns) == len(col_names):\n",
    "            print('setting column names')\n",
    "            data_df.columns = col_names\n",
    "\n",
    "        if first == True and len(data_df.columns) > 0:\n",
    "            dist_df = data_df.copy()\n",
    "            first = False\n",
    "\n",
    "        elif first == False and len(data_df.columns) > 0:\n",
    "            print('merging dataframes')\n",
    "            dist_df=pd.concat([dist_df, data_df])\n",
    "\n",
    "        else:\n",
    "            print('no data returned from query')\n",
    "\n",
    "        print(dist_df.tail())\n",
    "        path = 'data/'\n",
    "        if not os.path.exists(path):\n",
    "            os.makedirs(path)\n",
    "\n",
    "        year -= 1\n",
    "    dist_df.to_csv(path + '{field1}_to_{field2}_dist_{geo_level}_{loanType}.csv'.format(field1=field1, field2=field2, geo_level=geo_level, loanType=loanType),index=False)"
   ]
  },
  {
   "cell_type": "code",
   "execution_count": 24,
   "metadata": {
    "collapsed": false
   },
   "outputs": [],
   "source": [
    "loanType = 'RHS'\n",
    "if loanType == 'all':\n",
    "    loanCodes = \"'1', '2', '3', '4'\"\n",
    "elif loanType == 'CONV':\n",
    "    loanCodes = \"'1'\"\n",
    "elif loanType == 'VA':\n",
    "    loanCodes = \"'2'\"\n",
    "elif loanType == 'FHA':\n",
    "    loanCodes = \"'3'\"\n",
    "elif loanType == 'RHS':\n",
    "    loanCodes = \"'4'\"\n",
    "    "
   ]
  },
  {
   "cell_type": "code",
   "execution_count": null,
   "metadata": {
    "collapsed": false
   },
   "outputs": [
    {
     "name": "stdout",
     "output_type": "stream",
     "text": [
      "hmdalar2014\n",
      "SELECT DISTINCT year,  income, amount\n",
      "    FROM hmdalar2014 WHERE agency != '7' AND property_type IN ('1') AND loan_purpose IN ('1') \n",
      "    AND loan_type IN ('4') AND occupancy='1' AND lien = '1' AND income NOT ILIKE '%NA%' AND amount NOT ILIKE \n",
      "    '%NA%' GROUP BY year,  income, amount ORDER by income, amount ASC \n"
     ]
    }
   ],
   "source": [
    "#FIXME convert to **kwargs\n",
    "kwargs={'year':2014,\n",
    "        'field1':'income',\n",
    "        'field2':'amount',\n",
    "        'loan_type': loanCodes,\n",
    "        'loan_purp':'1',\n",
    "        'prop_type':'1',\n",
    "        'occupancy':'1',\n",
    "        'lien':'1'}\n",
    "#get_field_dist(year=2014, field1='income', field2='amount', loan_type=loanCodes, loan_purp='1', prop_type='1',  occupancy='1', lien='1')\n",
    "get_field_dist(**kwargs)"
   ]
  },
  {
   "cell_type": "code",
   "execution_count": null,
   "metadata": {
    "collapsed": true
   },
   "outputs": [],
   "source": []
  },
  {
   "cell_type": "code",
   "execution_count": null,
   "metadata": {
    "collapsed": true
   },
   "outputs": [],
   "source": []
  }
 ],
 "metadata": {
  "kernelspec": {
   "display_name": "Python 3",
   "language": "python",
   "name": "python3"
  },
  "language_info": {
   "codemirror_mode": {
    "name": "ipython",
    "version": 3
   },
   "file_extension": ".py",
   "mimetype": "text/x-python",
   "name": "python",
   "nbconvert_exporter": "python",
   "pygments_lexer": "ipython3",
   "version": "3.5.1"
  }
 },
 "nbformat": 4,
 "nbformat_minor": 0
}
