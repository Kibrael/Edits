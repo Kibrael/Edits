{
 "cells": [
  {
   "cell_type": "code",
   "execution_count": 1,
   "metadata": {
    "collapsed": false
   },
   "outputs": [
    {
     "name": "stdout",
     "output_type": "stream",
     "text": [
      "i'm connected\n"
     ]
    }
   ],
   "source": [
    "##############\n",
    "#K. David Roell CFPB 7/12/16\n",
    "#expands data selection for quality edits to include context for developing statistical approaches\n",
    "#will attemtp to segment mortgage market participants by loan activity by:\n",
    "#volume/count of lending, income of applicants, securitization, property type and other factors\n",
    "##############\n",
    "\n",
    "import json\n",
    "import os\n",
    "import pandas as pd\n",
    "import psycopg2\n",
    "import matplotlib\n",
    "import matplotlib.pyplot as plt\n",
    "import matplotlib.patches as mpatches\n",
    "get_ipython().magic(u'matplotlib inline')\n",
    "matplotlib.style.use('ggplot')\n",
    "#from macro_sql import Q076 \n",
    "with open('../quality_sql.json') as f: \n",
    "    edit_sql = json.load(f)\n",
    "    \n",
    "#parameter format for local use #consider changing hmdamaster to roellk if db changes cause a fail\n",
    "params = {\n",
    "'dbname':'hmdamaster',\n",
    "'user':'roellk',\n",
    "'password':'',\n",
    "'host':'localhost',\n",
    "}\n",
    "\n",
    "#establish a database connection and cursor\n",
    "try:\n",
    "    conn = psycopg2.connect(**params)\n",
    "    cur = conn.cursor()\n",
    "    print(\"i'm connected\")\n",
    "\n",
    "except psycopg2.Error as e: #if database connection results in an error print the following\n",
    "    print(\"I am unable to connect to the database: \", e)"
   ]
  },
  {
   "cell_type": "code",
   "execution_count": 2,
   "metadata": {
    "collapsed": false
   },
   "outputs": [],
   "source": [
    "#get distributions of values for fields\n",
    "#code default pulls unfiltered data, filters can be applied using named arguments.\n",
    "def field_dist_geo(field=None, table=None, geo_level=None, prop_type=\"'1','2','3'\", loan_purp=\"'1', '2','3'\", loan_type=\"'1','2','3','4'\", lien=\"'1','2','3'\", occupancy=\"'1','2','3'\"):\n",
    "    \"\"\"generates a sql statement used to pull values and associated counts for the listed variable subject to listed filters\"\"\"\n",
    "    \n",
    "    \n",
    "    if field is None: #stop SQL pull if no field is supplied\n",
    "        raise ValueError(\"field is required\")\n",
    "        \n",
    "    if geo_level == 'MSA':\n",
    "        geo_sql = 'msa,'\n",
    "    elif geo_level == 'state':\n",
    "        geo_sql = 'state,'\n",
    "    elif geo_level == 'county':\n",
    "        geo_sql = 'CONCAT(state,county),'\n",
    "    elif geo_level == 'tract':\n",
    "        geo_sql = 'CONCAT(state,county,tract),'\n",
    "    else:\n",
    "        geo_sql = ''\n",
    "    \n",
    "    dist_sql = \"\"\"SELECT DISTINCT year, {geo_sql} {field}, COUNT({field}) \n",
    "    FROM {table} \"\"\".format(table=table, field=field, geo_sql=geo_sql) \n",
    "    \n",
    "    #removing the bulk of quesitonable data in exploration by removing HUD\n",
    "    where_sql = \"\"\"WHERE agency != '7' AND property_type IN ({prop_type}) AND loan_purpose IN ({loan_purp}) \n",
    "    AND loan_type IN ({loan_type}) AND lien IN ({lien}) AND occupancy IN ({occupancy}) \"\"\".format(prop_type=prop_type, loan_purp=loan_purp, loan_type=loan_type, lien=lien, occupancy=occupancy)\n",
    "\n",
    "    group_sql = \"\"\"GROUP BY year, {geo_group} {field}\"\"\".format(field=field, geo_group=geo_sql)\n",
    "    order_sql = \"\"\" ORDER by {field} ASC \"\"\".format(field=field)\n",
    "    return_sql = dist_sql + where_sql + group_sql + order_sql\n",
    "    print(return_sql)\n",
    "    return return_sql"
   ]
  },
  {
   "cell_type": "code",
   "execution_count": null,
   "metadata": {
    "collapsed": false
   },
   "outputs": [],
   "source": [
    "def get_field_dist(year=None, field=None, geo_level=None):\n",
    "    \"\"\"executes SQL to get distributions of data by selected geography for the stated field for multiple years of hmda\"\"\"\n",
    "    first = True\n",
    "    while year > 2003:\n",
    "        table = 'hmdalar' + str(year)\n",
    "        print(table)\n",
    "        cur.execute(field_dist_geo(table=table, field=field, geo_level=geo_level))        \n",
    "        data_df = pd.DataFrame(cur.fetchall())\n",
    "\n",
    "        col_names = [desc[0] for desc in cur.description]\n",
    "        if len(data_df.columns) == len(col_names):\n",
    "            print('setting column names')\n",
    "            data_df.columns = col_names\n",
    "\n",
    "        if first == True and len(data_df.columns) > 0:\n",
    "            dist_df = data_df.copy()\n",
    "            first = False\n",
    "\n",
    "        elif first == False and len(data_df.columns) > 0:\n",
    "            print('merging dataframes')\n",
    "            dist_df=dist_df.merge(data_df, how='outer')\n",
    "\n",
    "        else:\n",
    "            print('no data returned from query')\n",
    "\n",
    "        print(dist_df.tail())\n",
    "        path = 'data/'\n",
    "        if not os.path.exists(path):\n",
    "            os.makedirs(path)\n",
    "\n",
    "        year -= 1\n",
    "    dist_df.to_csv(path + '{field}_dist_{geo_level}{prop_type}.csv'.format(field=field, geo_level=geo_level, prop_type=prop_type),index=False)"
   ]
  },
  {
   "cell_type": "code",
   "execution_count": null,
   "metadata": {
    "collapsed": false
   },
   "outputs": [
    {
     "name": "stdout",
     "output_type": "stream",
     "text": [
      "hmdalar2014\n",
      "SELECT DISTINCT year,  amount, COUNT(amount) \n",
      "    FROM hmdalar2014 WHERE agency != '7' AND property_type IN ('1','2','3') AND loan_purpose IN ('1', '2','3') \n",
      "    AND loan_type IN ('1','2','3','4') AND lien IN ('1','2','3') AND occupancy IN ('1','2','3') GROUP BY year,  amount ORDER by amount ASC \n",
      "setting column names\n",
      "      year amount  count\n",
      "6339  2014  95550      1\n",
      "6340  2014  97000      1\n",
      "6341  2014  98000      1\n",
      "6342  2014  99161      1\n",
      "6343  2014  99999     59\n",
      "hmdalar2013\n",
      "SELECT DISTINCT year,  amount, COUNT(amount) \n",
      "    FROM hmdalar2013 WHERE agency != '7' AND property_type IN ('1','2','3') AND loan_purpose IN ('1', '2','3') \n",
      "    AND loan_type IN ('1','2','3','4') AND lien IN ('1','2','3') AND occupancy IN ('1','2','3') GROUP BY year,  amount ORDER by amount ASC \n",
      "setting column names\n",
      "merging dataframes\n",
      "       year amount  count\n",
      "12667  2013  92160    1.0\n",
      "12668  2013  92500    1.0\n",
      "12669  2013  95000    3.0\n",
      "12670  2013  99000    1.0\n",
      "12671  2013  99999   50.0\n",
      "hmdalar2012\n",
      "SELECT DISTINCT year,  amount, COUNT(amount) \n",
      "    FROM hmdalar2012 WHERE agency != '7' AND property_type IN ('1','2','3') AND loan_purpose IN ('1', '2','3') \n",
      "    AND loan_type IN ('1','2','3','4') AND lien IN ('1','2','3') AND occupancy IN ('1','2','3') GROUP BY year,  amount ORDER by amount ASC \n"
     ]
    }
   ],
   "source": [
    "#field=None, table=None, geo_level=None, prop_type=None, loan_purp=None, loan_type=None\n",
    "kwargs={'year':2014,\n",
    "       'field':'amount',\n",
    "       'prop_type':None,\n",
    "       'loan_purp':None,\n",
    "       'loan_type':None}\n",
    "#field_dist_geo(table='hmdalar2014', field='amount')\n",
    "get_field_dist(year=2014, field='amount')"
   ]
  },
  {
   "cell_type": "code",
   "execution_count": null,
   "metadata": {
    "collapsed": true
   },
   "outputs": [],
   "source": []
  }
 ],
 "metadata": {
  "kernelspec": {
   "display_name": "Python 3",
   "language": "python",
   "name": "python3"
  },
  "language_info": {
   "codemirror_mode": {
    "name": "ipython",
    "version": 3
   },
   "file_extension": ".py",
   "mimetype": "text/x-python",
   "name": "python",
   "nbconvert_exporter": "python",
   "pygments_lexer": "ipython3",
   "version": "3.5.1"
  }
 },
 "nbformat": 4,
 "nbformat_minor": 0
}
