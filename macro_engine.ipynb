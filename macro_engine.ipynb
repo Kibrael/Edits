{
 "cells": [
  {
   "cell_type": "code",
   "execution_count": 136,
   "metadata": {
    "collapsed": false
   },
   "outputs": [
    {
     "name": "stdout",
     "output_type": "stream",
     "text": [
      "i'm connected\n"
     ]
    }
   ],
   "source": [
    "##############\n",
    "#K. David Roell CFPB 7/12/16\n",
    "#Compiles a report of all macro edit failures for HMDA LAR data\n",
    "#\n",
    "##############\n",
    "import codecs\n",
    "import json\n",
    "import os\n",
    "import pandas as pd\n",
    "import psycopg2\n",
    "#from macro_sql import Q076 \n",
    "#with open('macro_sql.json') as f: #FIXME change to quality_sql.json and refactor the rest of code\n",
    "#    edit_sql = json.load(f)\n",
    "macro_edits = ['Q006', 'Q007', 'Q008', 'Q009', 'Q010', 'Q011', 'Q015', 'Q016', 'Q023', 'Q031', 'Q047', 'Q048',\n",
    "              'Q053', 'Q054', 'Q055', 'Q056', 'Q057', 'Q058', 'Q061', 'Q062', 'Q063', 'Q065', 'Q070', 'Q071',\n",
    "              'Q072', 'Q073', 'Q074', 'Q075', 'Q076', 'Q080', 'Q081', 'Q082', 'Q083']\n",
    "two_table_edits = ['Q011', 'Q070', 'Q071', 'Q072', 'Q075', 'Q076']\n",
    "#conn = psycopg2.connect(\"dbname=hmdamaster user=roellk\") #connect and return connection\n",
    "#cur = conn.cursor()#instantiate cursor object to use in SQL queries\n",
    "#parameter format for local use #consider changing hmdamaster to roellk if db changes cause a fail\n",
    "params = {\n",
    "'dbname':'hmdamaster',\n",
    "'user':'roellk',\n",
    "'password':'',\n",
    "'host':'localhost',\n",
    "\n",
    "}\n",
    "\n",
    "#connect_string = \"dbname=%s user=%s host=%s password =%s\" %(dbname, user, host, password) #set a string for connection to SQL\n",
    "try:\n",
    "    conn = psycopg2.connect(**params)\n",
    "    cur = conn.cursor()\n",
    "    print(\"i'm connected\")\n",
    "\n",
    "except psycopg2.Error as e: #if database connection results in an error print the following\n",
    "    print(\"I am unable to connect to the database: \", e)\n",
    "\n",
    "\n",
    "lar_tables = ['hmdalar2014', 'hmdalar2013']\n",
    "#edit_list = [item for item in dir(SQL_text) if not item.startswith(\"__\")]"
   ]
  },
  {
   "cell_type": "code",
   "execution_count": 141,
   "metadata": {
    "collapsed": false
   },
   "outputs": [
    {
     "name": "stdout",
     "output_type": "stream",
     "text": [
      "Q006 WITH numer AS (SELECT agency ,CONCAT(agency,rid) AS arid ,COUNT(sequence) as numer_count FROM {table} WHERE action = '1' AND loan_purpose = '1' GROUP BY agency, CONCAT(agency, RID)),  denom AS (SELECT agency ,CONCAT(agency, RID) AS arid ,COUNT(sequence) as denom_count FROM {table} WHERE loan_purpose = '1' GROUP BY agency, CONCAT(agency, rid))  SELECT numer.agency, numer.arid, (numer_count/denom_count::REAL) *100 AS Q006 FROM numer LEFT JOIN denom on numer.arid = denom.arid WHERE (numer_count/denom_count::REAL) * 100 > 95 AND numer_count > 25;\n",
      "\n",
      "  agency         arid        q006\n",
      "0      1  10000000676   97.826087\n",
      "1      1  10000001154   96.478873\n",
      "2      1  10000004975   95.131086\n",
      "3      1  10000005275  100.000000\n",
      "4      1  10000005842   96.969697\n"
     ]
    }
   ],
   "source": [
    "first = True\n",
    "for edit in macro_edits[:1]:\n",
    "    SQL=\"\" #instantiate empty string\n",
    "\n",
    "    with open('SQL_files/'+edit+'.sql') as f: #cycle over all SQL files in edit list\n",
    "        for line in f.readlines():\n",
    "            SQL = SQL + line.replace('\\n', ' ') #add lines from SQL file to string\n",
    "\n",
    "    SQL = SQL[1:] #remove Byte Order Marker (BOM) from string\n",
    "    print(edit, SQL) #check SQL output\n",
    "    print() #format spacing\n",
    "    #if edit in group with 2 tables, execute with 2 table parameters\n",
    "    if edit in two_table_edits:\n",
    "        cur.execute(SQL.format(table='HMDALAR2014', table_prev='HMDALAR2013')) #pass two tables to edits requiring it\n",
    "    else:\n",
    "        cur.execute(SQL.format(table='HMDALAR2014')) #pass single table for most edits\n",
    "    \n",
    "    result_df = pd.DataFrame(cur.fetchall()) #convert query results to dataframe\n",
    "    col_names = [desc[0] for desc in cur.description] #get list of column names from query result\n",
    "    result_df.columns = col_names #change DF columns to result names\n",
    "    if first:\n",
    "        first = False\n",
    "        macro_df = result_df #seed dataframe with first edit results\n",
    "    else:\n",
    "        macro_df = macro_df.merge(result_df, how='outer', on='arid')\n",
    "    \n",
    "    print(macro_df.head())"
   ]
  },
  {
   "cell_type": "code",
   "execution_count": null,
   "metadata": {
    "collapsed": false
   },
   "outputs": [],
   "source": []
  },
  {
   "cell_type": "code",
   "execution_count": null,
   "metadata": {
    "collapsed": true
   },
   "outputs": [],
   "source": []
  }
 ],
 "metadata": {
  "kernelspec": {
   "display_name": "Python 3",
   "language": "python",
   "name": "python3"
  },
  "language_info": {
   "codemirror_mode": {
    "name": "ipython",
    "version": 3
   },
   "file_extension": ".py",
   "mimetype": "text/x-python",
   "name": "python",
   "nbconvert_exporter": "python",
   "pygments_lexer": "ipython3",
   "version": "3.5.1"
  }
 },
 "nbformat": 4,
 "nbformat_minor": 0
}
