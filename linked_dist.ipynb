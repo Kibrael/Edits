{
 "cells": [
  {
   "cell_type": "code",
   "execution_count": 1,
   "metadata": {
    "collapsed": false
   },
   "outputs": [
    {
     "name": "stdout",
     "output_type": "stream",
     "text": [
      "i'm connected\n"
     ]
    }
   ],
   "source": [
    "##############\n",
    "#K. David Roell CFPB 7/12/16\n",
    "#expands data selection for quality edits to include context for developing statistical approaches\n",
    "#will attemtp to segment mortgage market participants by loan activity by:\n",
    "#volume/count of lending, income of applicants, securitization, property type and other factors\n",
    "##############\n",
    "\n",
    "import json\n",
    "import os\n",
    "import pandas as pd\n",
    "import psycopg2\n",
    "import matplotlib\n",
    "import matplotlib.pyplot as plt\n",
    "import matplotlib.patches as mpatches\n",
    "get_ipython().magic(u'matplotlib inline')\n",
    "matplotlib.style.use('ggplot')\n",
    "#from macro_sql import Q076 \n",
    "with open('quality_sql.json') as f: #FIXME change to quality_sql.json and refactor the rest of code\n",
    "    edit_sql = json.load(f)\n",
    "    \n",
    "#parameter format for local use #consider changing hmdamaster to roellk if db changes cause a fail\n",
    "params = {\n",
    "'dbname':'hmdamaster',\n",
    "'user':'roellk',\n",
    "'password':'',\n",
    "'host':'localhost',\n",
    "}\n",
    "\n",
    "try:\n",
    "    conn = psycopg2.connect(**params)\n",
    "    cur = conn.cursor()\n",
    "    print(\"i'm connected\")\n",
    "\n",
    "except psycopg2.Error as e: #if database connection results in an error print the following\n",
    "    print(\"I am unable to connect to the database: \", e)"
   ]
  },
  {
   "cell_type": "code",
   "execution_count": 17,
   "metadata": {
    "collapsed": true
   },
   "outputs": [],
   "source": [
    "#get distributions of values for fields\n",
    "def field_dist_geo(field1=None, field2=None, table=None, geo_level=None, prop_type='1', loan_purp='1', loan_type='1'):\n",
    "    \"\"\"generates a sql statement used to pull values and associated counts for the listed variable subject to listed filters\"\"\"\n",
    "    #FIXME use a list instead of prop_type, loan_purp, loan_type\n",
    "    if geo_level == 'MSA':\n",
    "        geo_sql = 'msa,'\n",
    "    elif geo_level == 'state':\n",
    "        geo_sql = 'state,'\n",
    "    elif geo_level == 'county':\n",
    "        geo_sql = 'CONCAT(state,county),'\n",
    "    elif geo_level == 'tract':\n",
    "        geo_sql = 'CONCAT(state,county,tract),'\n",
    "    else:\n",
    "        geo_sql = ''\n",
    "    \n",
    "    dist_sql = \"\"\"SELECT DISTINCT year, {geo_sql} {field1}, {field2}, COUNT({field1}) AS count_{field1}, COUNT({field2}) AS count_{field2} \n",
    "    FROM {table} \"\"\".format(table=table, field1=field1, field2=field2, geo_sql=geo_sql) \n",
    "    #FIXME make flexible to acommodate lack of geography\n",
    "    #FIXME convert named params to None and raise value error \n",
    "    #removing the bulk of quesitonable data in exploration by removing HUD\n",
    "    where_sql = \"\"\"WHERE agency != '7' AND property_type IN ('{prop_type}') AND loan_purpose IN ('{loan_purp}') \n",
    "    AND loan_type IN ('{loan_type}') AND income NOT ILIKE '%NA%' AND amount NOT ILIKE '%NA%'\"\"\".format(prop_type=prop_type, loan_purp=loan_purp, loan_type=loan_type)\n",
    "\n",
    "    group_sql = \"\"\"GROUP BY year, {geo_group} {field1}, {field2}, COUNT({field1}), COUNT({field2})\"\"\".format(field1=field1, field2=field2, geo_group=geo_sql)\n",
    "    order_sql = \"\"\" ORDER by {field1}, {field2} ASC \"\"\".format(field1=field1, field2=field2)\n",
    "    return_sql = dist_sql + where_sql + group_sql + order_sql\n",
    "    print(return_sql)\n",
    "    return return_sql"
   ]
  },
  {
   "cell_type": "code",
   "execution_count": 22,
   "metadata": {
    "collapsed": false
   },
   "outputs": [],
   "source": [
    "def get_field_dist(year=None, field1=None, field2=None, geo_level=''):\n",
    "    \"\"\"executes SQL to get distributions of data by selected geography for the stated field for multiple years of hmda\"\"\"\n",
    "    first = True\n",
    "    while year > 2003:\n",
    "        table = 'hmdalar' + str(year)\n",
    "        print(table)\n",
    "        cur.execute(field_dist_geo(table=table, field1=field1, field2=field2, geo_level=geo_level))        \n",
    "        data_df = pd.DataFrame(cur.fetchall())\n",
    "\n",
    "        col_names = [desc[0] for desc in cur.description]\n",
    "        if len(data_df.columns) == len(col_names):\n",
    "            print('setting column names')\n",
    "            data_df.columns = col_names\n",
    "\n",
    "        if first == True and len(data_df.columns) > 0:\n",
    "            dist_df = data_df.copy()\n",
    "            first = False\n",
    "\n",
    "        elif first == False and len(data_df.columns) > 0:\n",
    "            print('merging dataframes')\n",
    "            dist_df=pd.concat([dist_df, data_df])\n",
    "\n",
    "        else:\n",
    "            print('no data returned from query')\n",
    "\n",
    "        print(dist_df.tail())\n",
    "        path = 'dist_csvs/'\n",
    "        if not os.path.exists(path):\n",
    "            os.makedirs(path)\n",
    "\n",
    "        year -= 1\n",
    "    dist_df.to_csv(path + '{field1}_to_{field2}_dist_{geo_level}.csv'.format(field1=field1, field2=field2, geo_level=geo_level),index=False)"
   ]
  },
  {
   "cell_type": "code",
   "execution_count": 23,
   "metadata": {
    "collapsed": false
   },
   "outputs": [
    {
     "name": "stdout",
     "output_type": "stream",
     "text": [
      "hmdalar2014\n",
      "SELECT DISTINCT year,  income, amount, COUNT(income), COUNT(amount) \n",
      "    FROM hmdalar2014 WHERE agency != '7' AND property_type IN ('1') AND loan_purpose IN ('1') \n",
      "    AND loan_type IN ('1') AND income NOT ILIKE '%NA%' AND amount NOT ILIKE '%NA%'GROUP BY year,  income, amount ORDER by income, amount ASC \n",
      "setting column names\n",
      "        year income amount  count  count\n",
      "272960  2014   9999  14000      1      1\n",
      "272961  2014   9999  14470      1      1\n",
      "272962  2014   9999  16000      1      1\n",
      "272963  2014   9999  21750      1      1\n",
      "272964  2014   9999  25513      1      1\n",
      "hmdalar2013\n",
      "SELECT DISTINCT year,  income, amount, COUNT(income), COUNT(amount) \n",
      "    FROM hmdalar2013 WHERE agency != '7' AND property_type IN ('1') AND loan_purpose IN ('1') \n",
      "    AND loan_type IN ('1') AND income NOT ILIKE '%NA%' AND amount NOT ILIKE '%NA%'GROUP BY year,  income, amount ORDER by income, amount ASC \n",
      "setting column names\n",
      "merging dataframes\n",
      "        year income amount  count  count\n",
      "270738  2013   9999  11000      1      1\n",
      "270739  2013   9999  12000      2      2\n",
      "270740  2013   9999  16250      1      1\n",
      "270741  2013   9999  21000      1      1\n",
      "270742  2013   9999  22100      1      1\n",
      "hmdalar2012\n",
      "SELECT DISTINCT year,  income, amount, COUNT(income), COUNT(amount) \n",
      "    FROM hmdalar2012 WHERE agency != '7' AND property_type IN ('1') AND loan_purpose IN ('1') \n",
      "    AND loan_type IN ('1') AND income NOT ILIKE '%NA%' AND amount NOT ILIKE '%NA%'GROUP BY year,  income, amount ORDER by income, amount ASC \n",
      "setting column names\n",
      "merging dataframes\n",
      "        year income amount  count  count\n",
      "238977  2012   9999  10000      2      2\n",
      "238978  2012   9999  11700      1      1\n",
      "238979  2012   9999  12080      1      1\n",
      "238980  2012   9999  13600      1      1\n",
      "238981  2012   9999  20340      1      1\n",
      "hmdalar2011\n",
      "SELECT DISTINCT year,  income, amount, COUNT(income), COUNT(amount) \n",
      "    FROM hmdalar2011 WHERE agency != '7' AND property_type IN ('1') AND loan_purpose IN ('1') \n",
      "    AND loan_type IN ('1') AND income NOT ILIKE '%NA%' AND amount NOT ILIKE '%NA%'GROUP BY year,  income, amount ORDER by income, amount ASC \n",
      "setting column names\n",
      "merging dataframes\n",
      "        year income amount  count  count\n",
      "221528  2011   9999  08750      1      1\n",
      "221529  2011   9999  10000      1      1\n",
      "221530  2011   9999  11800      1      1\n",
      "221531  2011   9999  12654      1      1\n",
      "221532  2011   9999  19800      1      1\n",
      "hmdalar2010\n",
      "SELECT DISTINCT year,  income, amount, COUNT(income), COUNT(amount) \n",
      "    FROM hmdalar2010 WHERE agency != '7' AND property_type IN ('1') AND loan_purpose IN ('1') \n",
      "    AND loan_type IN ('1') AND income NOT ILIKE '%NA%' AND amount NOT ILIKE '%NA%'GROUP BY year,  income, amount ORDER by income, amount ASC \n",
      "setting column names\n",
      "merging dataframes\n",
      "        year income amount  count  count\n",
      "216149  2010   9999  08167      1      1\n",
      "216150  2010   9999  08525      1      1\n",
      "216151  2010   9999  10000      1      1\n",
      "216152  2010   9999  13000      2      2\n",
      "216153  2010   9999  15000      1      1\n",
      "hmdalar2009\n",
      "SELECT DISTINCT year,  income, amount, COUNT(income), COUNT(amount) \n",
      "    FROM hmdalar2009 WHERE agency != '7' AND property_type IN ('1') AND loan_purpose IN ('1') \n",
      "    AND loan_type IN ('1') AND income NOT ILIKE '%NA%' AND amount NOT ILIKE '%NA%'GROUP BY year,  income, amount ORDER by income, amount ASC \n",
      "setting column names\n",
      "merging dataframes\n",
      "        year income amount  count  count\n",
      "235574  2009   9999  08580      1      1\n",
      "235575  2009   9999  09840      1      1\n",
      "235576  2009   9999  10450      1      1\n",
      "235577  2009   9999  14000      1      1\n",
      "235578  2009   9999  15000      1      1\n",
      "hmdalar2008\n",
      "SELECT DISTINCT year,  income, amount, COUNT(income), COUNT(amount) \n",
      "    FROM hmdalar2008 WHERE agency != '7' AND property_type IN ('1') AND loan_purpose IN ('1') \n",
      "    AND loan_type IN ('1') AND income NOT ILIKE '%NA%' AND amount NOT ILIKE '%NA%'GROUP BY year,  income, amount ORDER by income, amount ASC \n",
      "setting column names\n",
      "merging dataframes\n",
      "        year income amount  count  count\n",
      "278079  2008   9999  17000      4      4\n",
      "278080  2008   9999  18600      4      4\n",
      "278081  2008   9999  20000      4      4\n",
      "278082  2008   9999  22500      8      8\n",
      "278083  2008   9999  22650      4      4\n",
      "hmdalar2007\n",
      "SELECT DISTINCT year,  income, amount, COUNT(income), COUNT(amount) \n",
      "    FROM hmdalar2007 WHERE agency != '7' AND property_type IN ('1') AND loan_purpose IN ('1') \n",
      "    AND loan_type IN ('1') AND income NOT ILIKE '%NA%' AND amount NOT ILIKE '%NA%'GROUP BY year,  income, amount ORDER by income, amount ASC \n",
      "setting column names\n",
      "merging dataframes\n",
      "        year income amount  count  count\n",
      "356335  2007   9999  16800      1      1\n",
      "356336  2007   9999  17500      2      2\n",
      "356337  2007   9999  19200      1      1\n",
      "356338  2007   9999  20000      3      3\n",
      "356339  2007   9999  99999      1      1\n",
      "hmdalar2006\n",
      "SELECT DISTINCT year,  income, amount, COUNT(income), COUNT(amount) \n",
      "    FROM hmdalar2006 WHERE agency != '7' AND property_type IN ('1') AND loan_purpose IN ('1') \n",
      "    AND loan_type IN ('1') AND income NOT ILIKE '%NA%' AND amount NOT ILIKE '%NA%'GROUP BY year,  income, amount ORDER by income, amount ASC \n",
      "setting column names\n",
      "merging dataframes\n",
      "        year income amount  count  count\n",
      "356985  2006   9999  10450      1      1\n",
      "356986  2006   9999  12425      1      1\n",
      "356987  2006   9999  12500      1      1\n",
      "356988  2006   9999  13400      1      1\n",
      "356989  2006   9999  15500      1      1\n",
      "hmdalar2005\n",
      "SELECT DISTINCT year,  income, amount, COUNT(income), COUNT(amount) \n",
      "    FROM hmdalar2005 WHERE agency != '7' AND property_type IN ('1') AND loan_purpose IN ('1') \n",
      "    AND loan_type IN ('1') AND income NOT ILIKE '%NA%' AND amount NOT ILIKE '%NA%'GROUP BY year,  income, amount ORDER by income, amount ASC \n",
      "setting column names\n",
      "merging dataframes\n",
      "        year income amount  count  count\n",
      "350326  2005   9999  10000      1      1\n",
      "350327  2005   9999  10800      1      1\n",
      "350328  2005   9999  11813      1      1\n",
      "350329  2005   9999  12000      1      1\n",
      "350330  2005   9999  15000      1      1\n",
      "hmdalar2004\n",
      "SELECT DISTINCT year,  income, amount, COUNT(income), COUNT(amount) \n",
      "    FROM hmdalar2004 WHERE agency != '7' AND property_type IN ('1') AND loan_purpose IN ('1') \n",
      "    AND loan_type IN ('1') AND income NOT ILIKE '%NA%' AND amount NOT ILIKE '%NA%'GROUP BY year,  income, amount ORDER by income, amount ASC \n",
      "setting column names\n",
      "merging dataframes\n",
      "        year income amount  count  count\n",
      "298233  2004   9999  09999      2      2\n",
      "298234  2004   9999  10000      1      1\n",
      "298235  2004   9999  11000      1      1\n",
      "298236  2004   9999  12000      1      1\n",
      "298237  2004   9999  18000      1      1\n"
     ]
    }
   ],
   "source": [
    "get_field_dist(year=2014, field1='income', field2='amount')"
   ]
  },
  {
   "cell_type": "code",
   "execution_count": 65,
   "metadata": {
    "collapsed": false
   },
   "outputs": [],
   "source": [
    "link_df = pd.read_csv('dist_csvs/income_to_amount_dist_.csv')"
   ]
  },
  {
   "cell_type": "code",
   "execution_count": 66,
   "metadata": {
    "collapsed": false
   },
   "outputs": [
    {
     "data": {
      "text/html": [
       "<div>\n",
       "<table border=\"1\" class=\"dataframe\">\n",
       "  <thead>\n",
       "    <tr style=\"text-align: right;\">\n",
       "      <th></th>\n",
       "      <th>year</th>\n",
       "      <th>income</th>\n",
       "      <th>amount</th>\n",
       "      <th>count</th>\n",
       "      <th>count.1</th>\n",
       "      <th>mult</th>\n",
       "    </tr>\n",
       "  </thead>\n",
       "  <tbody>\n",
       "    <tr>\n",
       "      <th>3095934</th>\n",
       "      <td>2004</td>\n",
       "      <td>9999</td>\n",
       "      <td>9999</td>\n",
       "      <td>2</td>\n",
       "      <td>2</td>\n",
       "      <td>1.00000</td>\n",
       "    </tr>\n",
       "    <tr>\n",
       "      <th>3095935</th>\n",
       "      <td>2004</td>\n",
       "      <td>9999</td>\n",
       "      <td>10000</td>\n",
       "      <td>1</td>\n",
       "      <td>1</td>\n",
       "      <td>1.00010</td>\n",
       "    </tr>\n",
       "    <tr>\n",
       "      <th>3095936</th>\n",
       "      <td>2004</td>\n",
       "      <td>9999</td>\n",
       "      <td>11000</td>\n",
       "      <td>1</td>\n",
       "      <td>1</td>\n",
       "      <td>1.10011</td>\n",
       "    </tr>\n",
       "    <tr>\n",
       "      <th>3095937</th>\n",
       "      <td>2004</td>\n",
       "      <td>9999</td>\n",
       "      <td>12000</td>\n",
       "      <td>1</td>\n",
       "      <td>1</td>\n",
       "      <td>1.20012</td>\n",
       "    </tr>\n",
       "    <tr>\n",
       "      <th>3095938</th>\n",
       "      <td>2004</td>\n",
       "      <td>9999</td>\n",
       "      <td>18000</td>\n",
       "      <td>1</td>\n",
       "      <td>1</td>\n",
       "      <td>1.80018</td>\n",
       "    </tr>\n",
       "  </tbody>\n",
       "</table>\n",
       "</div>"
      ],
      "text/plain": [
       "         year  income  amount  count  count.1     mult\n",
       "3095934  2004    9999    9999      2        2  1.00000\n",
       "3095935  2004    9999   10000      1        1  1.00010\n",
       "3095936  2004    9999   11000      1        1  1.10011\n",
       "3095937  2004    9999   12000      1        1  1.20012\n",
       "3095938  2004    9999   18000      1        1  1.80018"
      ]
     },
     "execution_count": 66,
     "metadata": {},
     "output_type": "execute_result"
    }
   ],
   "source": [
    "#link_df = link_df[link_df.year == 2014].copy()\n",
    "link_df.income = link_df.income.map(int)\n",
    "link_df.amount = link_df.amount.map(int)\n",
    "link_df['mult'] = link_df.amount/link_df.income\n",
    "link_df.tail()\n",
    "#link_df.drop(link_df['count.1'], inplace=True)"
   ]
  },
  {
   "cell_type": "code",
   "execution_count": 67,
   "metadata": {
    "collapsed": false
   },
   "outputs": [],
   "source": [
    "max_20to30 = link_df.amount[(link_df['income'] > 20) & (link_df['income'] < 30)].max()\n",
    "min_20to30 = link_df.amount[(link_df['income'] > 20) & (link_df['income'] < 30)].min()\n",
    "\n",
    "amt_range = max_20to30 - min_20to30"
   ]
  },
  {
   "cell_type": "code",
   "execution_count": 68,
   "metadata": {
    "collapsed": false
   },
   "outputs": [
    {
     "name": "stdout",
     "output_type": "stream",
     "text": [
      "111.718912303 std\n",
      "173.4232775 mean\n",
      "157.0 median\n",
      "24.619047619 max mult\n",
      "0.379310344828 min mult\n",
      "450.0 98%\n",
      "243.0 75%\n",
      "84.0 25%\n",
      "16.0 02%\n"
     ]
    }
   ],
   "source": [
    "df_20to30 = link_df[(link_df['income'] > 20) & (link_df['income'] < 30)].copy()\n",
    "df_20to30 = df_20to30[(df_20to30.amount <520) & (df_20to30.amount > 10)]\n",
    "print(df_20to30.amount.std(), 'std')\n",
    "print(df_20to30.amount.mean(), 'mean')\n",
    "print(df_20to30.amount.median(), 'median')\n",
    "print(df_20to30.mult.max(), 'max mult')\n",
    "print(df_20to30.mult.min(), 'min mult')\n",
    "print(df_20to30.amount.quantile(q=.98), '98%')\n",
    "print(df_20to30.amount.quantile(q=.75), '75%')\n",
    "print(df_20to30.amount.quantile(q=.25), '25%')\n",
    "print(df_20to30.amount.quantile(q=.02), '02%')"
   ]
  },
  {
   "cell_type": "code",
   "execution_count": 69,
   "metadata": {
    "collapsed": false
   },
   "outputs": [
    {
     "data": {
      "text/plain": [
       "<matplotlib.axes._subplots.AxesSubplot at 0x1123cd7b8>"
      ]
     },
     "execution_count": 69,
     "metadata": {},
     "output_type": "execute_result"
    },
    {
     "data": {
      "image/png": "[encoded data removed]",
      "text/plain": [
       "<matplotlib.figure.Figure at 0x1123cdb38>"
      ]
     },
     "metadata": {},
     "output_type": "display_data"
    }
   ],
   "source": [
    "box = plt.figure(figsize=(15,15))\n",
    "df_20to30.amount.plot(kind='box')\n",
    "#df_20to30.income.plot(kind='box')"
   ]
  },
  {
   "cell_type": "code",
   "execution_count": null,
   "metadata": {
    "collapsed": true
   },
   "outputs": [],
   "source": []
  }
 ],
 "metadata": {
  "kernelspec": {
   "display_name": "Python 3",
   "language": "python",
   "name": "python3"
  },
  "language_info": {
   "codemirror_mode": {
    "name": "ipython",
    "version": 3
   },
   "file_extension": ".py",
   "mimetype": "text/x-python",
   "name": "python",
   "nbconvert_exporter": "python",
   "pygments_lexer": "ipython3",
   "version": "3.5.1"
  }
 },
 "nbformat": 4,
 "nbformat_minor": 0
}
